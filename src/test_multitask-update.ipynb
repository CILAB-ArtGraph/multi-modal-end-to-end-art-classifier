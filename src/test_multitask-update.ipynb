{
 "cells": [
  {
   "cell_type": "code",
   "execution_count": 1,
   "id": "db544cbc",
   "metadata": {
    "pycharm": {
     "is_executing": true
    }
   },
   "outputs": [],
   "source": [
    "from load_dataset.artgraph import ArtGraph\n",
    "from utils.MultiTaskLinkSplitter import MultiTaskLinkSplitter\n",
    "from utils.dataset import TrainingDataSet, TestDataSet\n",
    "from utils.EarlyStopping import EarlyStopping\n",
    "from multi_task_model import MultiTaskClassificationModel, NewMultiTaskClassificationModel\n",
    "from torch import nn\n",
    "from utils.training_utils import fine_tune, test as test_func, compute_topk, plot_confusion_matrix\n",
    "from torch.utils.data import DataLoader\n",
    "from torch import optim\n",
    "import torch\n",
    "import pandas as pd\n",
    "from sklearn.metrics import f1_score\n",
    "import matplotlib.pyplot as plt\n",
    "from torch.optim import lr_scheduler\n",
    "%matplotlib inline"
   ]
  },
  {
   "cell_type": "code",
   "execution_count": 2,
   "id": "01d501df",
   "metadata": {},
   "outputs": [],
   "source": [
    "from torch_geometric.seed import seed_everything\n",
    "seed_everything(1)"
   ]
  },
  {
   "cell_type": "code",
   "execution_count": 3,
   "id": "610546a5",
   "metadata": {},
   "outputs": [],
   "source": [
    "root = 'artgraph2bestemotions'\n",
    "data_path = 'data_full_labels.csv'\n",
    "root_dataset = 'common_dataset'"
   ]
  },
  {
   "cell_type": "code",
   "execution_count": 4,
   "id": "db59ad39",
   "metadata": {
    "scrolled": true
   },
   "outputs": [
    {
     "name": "stderr",
     "output_type": "stream",
     "text": [
      "Processing...\n",
      "Done!\n"
     ]
    },
    {
     "data": {
      "text/plain": [
       "HeteroData(\n",
       "  \u001b[1martwork\u001b[0m={ x=[116475, 128] },\n",
       "  \u001b[1martist\u001b[0m={ x=[2501, 1] },\n",
       "  \u001b[1mgallery\u001b[0m={ x=[1099, 1] },\n",
       "  \u001b[1mcity\u001b[0m={ x=[596, 1] },\n",
       "  \u001b[1mcountry\u001b[0m={ x=[58, 1] },\n",
       "  \u001b[1mstyle\u001b[0m={ x=[32, 1] },\n",
       "  \u001b[1mperiod\u001b[0m={ x=[186, 1] },\n",
       "  \u001b[1mgenre\u001b[0m={ x=[18, 1] },\n",
       "  \u001b[1mserie\u001b[0m={ x=[823, 1] },\n",
       "  \u001b[1mtag\u001b[0m={ x=[5424, 1] },\n",
       "  \u001b[1mmedia\u001b[0m={ x=[167, 1] },\n",
       "  \u001b[1msubject\u001b[0m={ x=[6985, 1] },\n",
       "  \u001b[1mtraining_node\u001b[0m={ x=[268, 1] },\n",
       "  \u001b[1mfield\u001b[0m={ x=[54, 1] },\n",
       "  \u001b[1mmovement\u001b[0m={ x=[243, 1] },\n",
       "  \u001b[1mpeople\u001b[0m={ x=[109, 1] },\n",
       "  \u001b[1memotion\u001b[0m={ x=[9, 1] },\n",
       "  \u001b[1m(artist, belongstofield, field)\u001b[0m={ edge_index=[2, 987] },\n",
       "  \u001b[1m(artist, belongstomovement, movement)\u001b[0m={ edge_index=[2, 1056] },\n",
       "  \u001b[1m(artist, haspatron, people)\u001b[0m={ edge_index=[2, 124] },\n",
       "  \u001b[1m(artist, hassubject, subject)\u001b[0m={ edge_index=[2, 21054] },\n",
       "  \u001b[1m(artist, relatedtoschool, training_node)\u001b[0m={ edge_index=[2, 498] },\n",
       "  \u001b[1m(artist, trainedby, artist)\u001b[0m={ edge_index=[2, 47] },\n",
       "  \u001b[1m(artwork, about, tag)\u001b[0m={ edge_index=[2, 342982] },\n",
       "  \u001b[1m(artwork, createdby, artist)\u001b[0m={ edge_index=[2, 116475] },\n",
       "  \u001b[1m(artwork, elicit, emotion)\u001b[0m={ edge_index=[2, 65236] },\n",
       "  \u001b[1m(artwork, hasgenre, genre)\u001b[0m={ edge_index=[2, 116475] },\n",
       "  \u001b[1m(artwork, hasperiod, period)\u001b[0m={ edge_index=[2, 5748] },\n",
       "  \u001b[1m(artwork, hasstyle, style)\u001b[0m={ edge_index=[2, 116475] },\n",
       "  \u001b[1m(artwork, locatedin, city)\u001b[0m={ edge_index=[2, 19532] },\n",
       "  \u001b[1m(artwork, locatedin, country)\u001b[0m={ edge_index=[2, 19488] },\n",
       "  \u001b[1m(artwork, locatedin, gallery)\u001b[0m={ edge_index=[2, 19504] },\n",
       "  \u001b[1m(artwork, madeof, media)\u001b[0m={ edge_index=[2, 83824] },\n",
       "  \u001b[1m(artwork, partof, serie)\u001b[0m={ edge_index=[2, 8322] },\n",
       "  \u001b[1m(city, incountry, country)\u001b[0m={ edge_index=[2, 608] },\n",
       "  \u001b[1m(gallery, incity, city)\u001b[0m={ edge_index=[2, 1109] },\n",
       "  \u001b[1m(gallery, incountry, country)\u001b[0m={ edge_index=[2, 1105] }\n",
       ")"
      ]
     },
     "execution_count": 4,
     "metadata": {},
     "output_type": "execute_result"
    }
   ],
   "source": [
    "data = ArtGraph(root = root, preprocess='constant', features = 'vit', fine_tuning = True)[0]\n",
    "data"
   ]
  },
  {
   "cell_type": "code",
   "execution_count": 5,
   "id": "4cfda96d",
   "metadata": {},
   "outputs": [],
   "source": [
    "train = torch.load(f'{root_dataset}/train_data.pt')\n",
    "val = torch.load(f'{root_dataset}/val_set.pt')\n",
    "test = torch.load(f'{root_dataset}/test_set.pt')"
   ]
  },
  {
   "cell_type": "code",
   "execution_count": 6,
   "id": "37fc85d5",
   "metadata": {},
   "outputs": [
    {
     "data": {
      "text/html": [
       "<div>\n",
       "<style scoped>\n",
       "    .dataframe tbody tr th:only-of-type {\n",
       "        vertical-align: middle;\n",
       "    }\n",
       "\n",
       "    .dataframe tbody tr th {\n",
       "        vertical-align: top;\n",
       "    }\n",
       "\n",
       "    .dataframe thead th {\n",
       "        text-align: right;\n",
       "    }\n",
       "</style>\n",
       "<table border=\"1\" class=\"dataframe\">\n",
       "  <thead>\n",
       "    <tr style=\"text-align: right;\">\n",
       "      <th></th>\n",
       "      <th>artwork</th>\n",
       "      <th>style</th>\n",
       "      <th>genre</th>\n",
       "      <th>emotion</th>\n",
       "    </tr>\n",
       "    <tr>\n",
       "      <th>artwork</th>\n",
       "      <th></th>\n",
       "      <th></th>\n",
       "      <th></th>\n",
       "      <th></th>\n",
       "    </tr>\n",
       "  </thead>\n",
       "  <tbody>\n",
       "    <tr>\n",
       "      <th>81418</th>\n",
       "      <td>81418</td>\n",
       "      <td>0</td>\n",
       "      <td>4</td>\n",
       "      <td>4</td>\n",
       "    </tr>\n",
       "    <tr>\n",
       "      <th>28493</th>\n",
       "      <td>28493</td>\n",
       "      <td>2</td>\n",
       "      <td>9</td>\n",
       "      <td>5</td>\n",
       "    </tr>\n",
       "    <tr>\n",
       "      <th>28421</th>\n",
       "      <td>28421</td>\n",
       "      <td>2</td>\n",
       "      <td>3</td>\n",
       "      <td>8</td>\n",
       "    </tr>\n",
       "    <tr>\n",
       "      <th>28393</th>\n",
       "      <td>28393</td>\n",
       "      <td>2</td>\n",
       "      <td>9</td>\n",
       "      <td>8</td>\n",
       "    </tr>\n",
       "    <tr>\n",
       "      <th>28380</th>\n",
       "      <td>28380</td>\n",
       "      <td>2</td>\n",
       "      <td>9</td>\n",
       "      <td>7</td>\n",
       "    </tr>\n",
       "    <tr>\n",
       "      <th>...</th>\n",
       "      <td>...</td>\n",
       "      <td>...</td>\n",
       "      <td>...</td>\n",
       "      <td>...</td>\n",
       "    </tr>\n",
       "    <tr>\n",
       "      <th>71300</th>\n",
       "      <td>71300</td>\n",
       "      <td>9</td>\n",
       "      <td>6</td>\n",
       "      <td>8</td>\n",
       "    </tr>\n",
       "    <tr>\n",
       "      <th>68290</th>\n",
       "      <td>68290</td>\n",
       "      <td>22</td>\n",
       "      <td>6</td>\n",
       "      <td>8</td>\n",
       "    </tr>\n",
       "    <tr>\n",
       "      <th>68567</th>\n",
       "      <td>68567</td>\n",
       "      <td>22</td>\n",
       "      <td>6</td>\n",
       "      <td>8</td>\n",
       "    </tr>\n",
       "    <tr>\n",
       "      <th>69055</th>\n",
       "      <td>69055</td>\n",
       "      <td>9</td>\n",
       "      <td>6</td>\n",
       "      <td>8</td>\n",
       "    </tr>\n",
       "    <tr>\n",
       "      <th>65386</th>\n",
       "      <td>65386</td>\n",
       "      <td>22</td>\n",
       "      <td>6</td>\n",
       "      <td>8</td>\n",
       "    </tr>\n",
       "  </tbody>\n",
       "</table>\n",
       "<p>65236 rows × 4 columns</p>\n",
       "</div>"
      ],
      "text/plain": [
       "         artwork  style  genre  emotion\n",
       "artwork                                \n",
       "81418      81418      0      4        4\n",
       "28493      28493      2      9        5\n",
       "28421      28421      2      3        8\n",
       "28393      28393      2      9        8\n",
       "28380      28380      2      9        7\n",
       "...          ...    ...    ...      ...\n",
       "71300      71300      9      6        8\n",
       "68290      68290     22      6        8\n",
       "68567      68567     22      6        8\n",
       "69055      69055      9      6        8\n",
       "65386      65386     22      6        8\n",
       "\n",
       "[65236 rows x 4 columns]"
      ]
     },
     "execution_count": 6,
     "metadata": {},
     "output_type": "execute_result"
    }
   ],
   "source": [
    "#loading data with labels\n",
    "data_labels = pd.read_csv(data_path)\n",
    "data_labels.index = data_labels.artwork\n",
    "data_labels['style'] -= 1\n",
    "data_labels"
   ]
  },
  {
   "cell_type": "code",
   "execution_count": 7,
   "id": "6ffe0769",
   "metadata": {},
   "outputs": [],
   "source": [
    "train_dataset = TrainingDataSet(graph = train, data_labels = data_labels)"
   ]
  },
  {
   "cell_type": "code",
   "execution_count": 8,
   "id": "2a43fe28",
   "metadata": {},
   "outputs": [],
   "source": [
    "val_dataset = TestDataSet(graph = train, x_test = val, data_labels = data_labels)"
   ]
  },
  {
   "cell_type": "code",
   "execution_count": 9,
   "id": "db2b54a9",
   "metadata": {},
   "outputs": [],
   "source": [
    "test_dataset = TestDataSet(graph = train, x_test = test, data_labels = data_labels)"
   ]
  },
  {
   "cell_type": "markdown",
   "id": "174a5cce",
   "metadata": {},
   "source": [
    "Test per vedere se va bene il modello pre-trained"
   ]
  },
  {
   "cell_type": "code",
   "execution_count": 10,
   "id": "7116ae35",
   "metadata": {},
   "outputs": [
    {
     "data": {
      "text/plain": [
       "ModelClassification(\n",
       "  (encoder): MultiGNNEncoder(\n",
       "    (activation): Tanh()\n",
       "    (encoders): ModuleDict(\n",
       "      (0): HeteroConv(num_relations=1)\n",
       "    )\n",
       "  )\n",
       "  (decoder): Head(\n",
       "    (head): Sequential(\n",
       "      (0): Linear(in_features=2432, out_features=1216, bias=True)\n",
       "      (1): LeakyReLU(negative_slope=0.1, inplace=True)\n",
       "      (2): Dropout(p=0.25, inplace=False)\n",
       "      (3): Linear(in_features=1216, out_features=608, bias=True)\n",
       "      (4): LeakyReLU(negative_slope=0.1, inplace=True)\n",
       "      (5): Dropout(p=0.25, inplace=False)\n",
       "      (6): Linear(in_features=608, out_features=304, bias=True)\n",
       "      (7): LeakyReLU(negative_slope=0.1, inplace=True)\n",
       "      (8): Dropout(p=0.25, inplace=False)\n",
       "      (9): Linear(in_features=304, out_features=152, bias=True)\n",
       "      (10): LeakyReLU(negative_slope=0.1, inplace=True)\n",
       "      (11): Dropout(p=0.25, inplace=False)\n",
       "      (12): Linear(in_features=152, out_features=18, bias=True)\n",
       "    )\n",
       "  )\n",
       ")"
      ]
     },
     "execution_count": 10,
     "metadata": {},
     "output_type": "execute_result"
    }
   ],
   "source": [
    "device = torch.device('cuda:0')\n",
    "genre_model = torch.load('genre.pt').to(device)\n",
    "genre_model"
   ]
  },
  {
   "cell_type": "code",
   "execution_count": 11,
   "id": "d1e3b6d4",
   "metadata": {},
   "outputs": [
    {
     "name": "stderr",
     "output_type": "stream",
     "text": [
      "100%|██████████████████████████████████████████████████████████████████████████████████| 51/51 [00:04<00:00, 11.63it/s]"
     ]
    },
    {
     "name": "stdout",
     "output_type": "stream",
     "text": [
      "Acc: 0.8140996694564819\n"
     ]
    },
    {
     "name": "stderr",
     "output_type": "stream",
     "text": [
      "\n"
     ]
    }
   ],
   "source": [
    "from tqdm import tqdm\n",
    "device = torch.device('cuda:0')\n",
    "train = train.to(device)\n",
    "\n",
    "test_loader = DataLoader(test_dataset, batch_size = 128, shuffle = False, drop_last = False)\n",
    "with torch.no_grad():\n",
    "    running_corrects = 0 \n",
    "    for _, images, (style_labels, genre_labels, emotion_labels) in tqdm(test_loader):\n",
    "        images = images.to(device, non_blocking = True)\n",
    "        genre_labels = genre_labels.to(device, non_blocking = True)\n",
    "        genre_pred = genre_model(train.x_dict, train.edge_index_dict, images)\n",
    "        running_corrects += torch.sum(torch.max(genre_pred, 1)[1] == genre_labels)\n",
    "    print(f'Acc: {running_corrects/len(test_loader.dataset)}')"
   ]
  },
  {
   "cell_type": "markdown",
   "id": "8001d9e0",
   "metadata": {},
   "source": [
    "## INSTANTIATING MODEL"
   ]
  },
  {
   "cell_type": "code",
   "execution_count": 12,
   "id": "d32e0650",
   "metadata": {
    "pycharm": {
     "is_executing": true
    }
   },
   "outputs": [],
   "source": [
    "device = torch.device('cuda:0')\n",
    "style_encoder = torch.load('best_model_style_single_task.pt').encoder\n",
    "genre_encoder = torch.load('best_model_genre_single_task.pt').encoder\n",
    "emotion_encoder = torch.load('best_model_emotion_single_task.pt').encoder\n",
    "model = NewMultiTaskClassificationModel(data = data, hidden_channels=None, head_num_layers=5,\n",
    "                                        encoders = (style_encoder, genre_encoder, emotion_encoder)).to(device)"
   ]
  },
  {
   "cell_type": "code",
   "execution_count": 13,
   "id": "b50b45a4",
   "metadata": {},
   "outputs": [
    {
     "data": {
      "text/plain": [
       "NewMultiTaskClassificationModel(\n",
       "  (encoder_style): MultiGNNEncoder(\n",
       "    (activation): Tanh()\n",
       "    (encoders): ModuleDict(\n",
       "      (0): HeteroConv(num_relations=1)\n",
       "    )\n",
       "  )\n",
       "  (encoder_genre): MultiGNNEncoder(\n",
       "    (activation): Tanh()\n",
       "    (encoders): ModuleDict(\n",
       "      (0): HeteroConv(num_relations=1)\n",
       "    )\n",
       "  )\n",
       "  (encoder_emotion): MultiGNNEncoder(\n",
       "    (activation): Tanh()\n",
       "    (encoders): ModuleDict(\n",
       "      (0): HeteroConv(num_relations=1)\n",
       "    )\n",
       "  )\n",
       "  (mlp): Sequential(\n",
       "    (0): Linear(in_features=7680, out_features=3840, bias=True)\n",
       "    (1): ReLU(inplace=True)\n",
       "    (2): Dropout(p=0.2, inplace=False)\n",
       "    (3): Linear(in_features=3840, out_features=1920, bias=True)\n",
       "    (4): ReLU(inplace=True)\n",
       "    (5): Dropout(p=0.2, inplace=False)\n",
       "    (6): Linear(in_features=1920, out_features=960, bias=True)\n",
       "    (7): ReLU(inplace=True)\n",
       "    (8): Dropout(p=0.2, inplace=False)\n",
       "    (9): Linear(in_features=960, out_features=480, bias=True)\n",
       "    (10): ReLU(inplace=True)\n",
       "    (11): Dropout(p=0.2, inplace=False)\n",
       "  )\n",
       "  (style_head): Linear(in_features=480, out_features=31, bias=True)\n",
       "  (genre_head): Linear(in_features=480, out_features=18, bias=True)\n",
       "  (emotion_head): Linear(in_features=480, out_features=9, bias=True)\n",
       ")"
      ]
     },
     "execution_count": 13,
     "metadata": {},
     "output_type": "execute_result"
    }
   ],
   "source": [
    "model"
   ]
  },
  {
   "cell_type": "code",
   "execution_count": 14,
   "id": "58625bde",
   "metadata": {},
   "outputs": [],
   "source": [
    "from torch_geometric.transforms import ToUndirected\n",
    "train = ToUndirected()(train).to(device)\n",
    "with torch.no_grad():\n",
    "    model.encoder_style(train.x_dict, train.edge_index_dict)\n",
    "    model.encoder_genre(train.x_dict, train.edge_index_dict)\n",
    "    model.encoder_emotion(train.x_dict, train.edge_index_dict)"
   ]
  },
  {
   "cell_type": "code",
   "execution_count": 15,
   "id": "5be2bb80",
   "metadata": {
    "scrolled": true
   },
   "outputs": [
    {
     "name": "stdout",
     "output_type": "stream",
     "text": [
      "Epoch 1/50\n",
      "------------------------------------------------------------------------------------------------------------------------\n"
     ]
    },
    {
     "name": "stderr",
     "output_type": "stream",
     "text": [
      "100%|████████████████████████████████████████████████████████████████████████████████| 408/408 [00:21<00:00, 18.55it/s]\n"
     ]
    },
    {
     "name": "stdout",
     "output_type": "stream",
     "text": [
      "train Loss: 1.7736 Style Acc: 0.3227\n",
      "            Genre Acc: 0.5484\n",
      "            Emotion Acc: 0.3835\n"
     ]
    },
    {
     "name": "stderr",
     "output_type": "stream",
     "text": [
      "100%|██████████████████████████████████████████████████████████████████████████████████| 51/51 [00:00<00:00, 55.99it/s]\n"
     ]
    },
    {
     "name": "stdout",
     "output_type": "stream",
     "text": [
      "val Loss: 1.4812 Style Acc: 0.4369\n",
      "            Genre Acc: 0.6445\n",
      "            Emotion Acc: 0.4219\n",
      "Validation loss decreased. Saving model...\n",
      "Epoch 2/50\n",
      "------------------------------------------------------------------------------------------------------------------------\n"
     ]
    },
    {
     "name": "stderr",
     "output_type": "stream",
     "text": [
      "100%|████████████████████████████████████████████████████████████████████████████████| 408/408 [00:15<00:00, 26.86it/s]\n"
     ]
    },
    {
     "name": "stdout",
     "output_type": "stream",
     "text": [
      "train Loss: 1.4421 Style Acc: 0.4480\n",
      "            Genre Acc: 0.6692\n",
      "            Emotion Acc: 0.4124\n"
     ]
    },
    {
     "name": "stderr",
     "output_type": "stream",
     "text": [
      "100%|██████████████████████████████████████████████████████████████████████████████████| 51/51 [00:00<00:00, 55.75it/s]\n"
     ]
    },
    {
     "name": "stdout",
     "output_type": "stream",
     "text": [
      "val Loss: 1.3705 Style Acc: 0.4822\n",
      "            Genre Acc: 0.6869\n",
      "            Emotion Acc: 0.4283\n",
      "Validation loss decreased. Saving model...\n",
      "Epoch 3/50\n",
      "------------------------------------------------------------------------------------------------------------------------\n"
     ]
    },
    {
     "name": "stderr",
     "output_type": "stream",
     "text": [
      "100%|████████████████████████████████████████████████████████████████████████████████| 408/408 [00:14<00:00, 27.35it/s]\n"
     ]
    },
    {
     "name": "stdout",
     "output_type": "stream",
     "text": [
      "train Loss: 1.3717 Style Acc: 0.4863\n",
      "            Genre Acc: 0.6845\n",
      "            Emotion Acc: 0.4199\n"
     ]
    },
    {
     "name": "stderr",
     "output_type": "stream",
     "text": [
      "100%|██████████████████████████████████████████████████████████████████████████████████| 51/51 [00:00<00:00, 59.18it/s]\n"
     ]
    },
    {
     "name": "stdout",
     "output_type": "stream",
     "text": [
      "val Loss: 1.3453 Style Acc: 0.4988\n",
      "            Genre Acc: 0.6903\n",
      "            Emotion Acc: 0.4409\n",
      "Validation loss decreased. Saving model...\n",
      "Epoch 4/50\n",
      "------------------------------------------------------------------------------------------------------------------------\n"
     ]
    },
    {
     "name": "stderr",
     "output_type": "stream",
     "text": [
      "100%|████████████████████████████████████████████████████████████████████████████████| 408/408 [00:14<00:00, 27.29it/s]\n"
     ]
    },
    {
     "name": "stdout",
     "output_type": "stream",
     "text": [
      "train Loss: 1.3309 Style Acc: 0.5071\n",
      "            Genre Acc: 0.6947\n",
      "            Emotion Acc: 0.4264\n"
     ]
    },
    {
     "name": "stderr",
     "output_type": "stream",
     "text": [
      "100%|██████████████████████████████████████████████████████████████████████████████████| 51/51 [00:00<00:00, 58.03it/s]\n"
     ]
    },
    {
     "name": "stdout",
     "output_type": "stream",
     "text": [
      "val Loss: 1.3159 Style Acc: 0.5216\n",
      "            Genre Acc: 0.6904\n",
      "            Emotion Acc: 0.4352\n",
      "Validation loss decreased. Saving model...\n",
      "Epoch 5/50\n",
      "------------------------------------------------------------------------------------------------------------------------\n"
     ]
    },
    {
     "name": "stderr",
     "output_type": "stream",
     "text": [
      "100%|████████████████████████████████████████████████████████████████████████████████| 408/408 [00:15<00:00, 27.03it/s]\n"
     ]
    },
    {
     "name": "stdout",
     "output_type": "stream",
     "text": [
      "train Loss: 1.3055 Style Acc: 0.5215\n",
      "            Genre Acc: 0.6995\n",
      "            Emotion Acc: 0.4283\n"
     ]
    },
    {
     "name": "stderr",
     "output_type": "stream",
     "text": [
      "100%|██████████████████████████████████████████████████████████████████████████████████| 51/51 [00:00<00:00, 57.57it/s]\n"
     ]
    },
    {
     "name": "stdout",
     "output_type": "stream",
     "text": [
      "val Loss: 1.2862 Style Acc: 0.5351\n",
      "            Genre Acc: 0.7060\n",
      "            Emotion Acc: 0.4297\n",
      "Validation loss decreased. Saving model...\n",
      "Epoch 6/50\n",
      "------------------------------------------------------------------------------------------------------------------------\n"
     ]
    },
    {
     "name": "stderr",
     "output_type": "stream",
     "text": [
      "100%|████████████████████████████████████████████████████████████████████████████████| 408/408 [00:15<00:00, 27.04it/s]\n"
     ]
    },
    {
     "name": "stdout",
     "output_type": "stream",
     "text": [
      "train Loss: 1.2825 Style Acc: 0.5338\n",
      "            Genre Acc: 0.7043\n",
      "            Emotion Acc: 0.4323\n"
     ]
    },
    {
     "name": "stderr",
     "output_type": "stream",
     "text": [
      "100%|██████████████████████████████████████████████████████████████████████████████████| 51/51 [00:00<00:00, 53.98it/s]\n"
     ]
    },
    {
     "name": "stdout",
     "output_type": "stream",
     "text": [
      "val Loss: 1.2757 Style Acc: 0.5415\n",
      "            Genre Acc: 0.7053\n",
      "            Emotion Acc: 0.4344\n",
      "Validation loss decreased. Saving model...\n",
      "Epoch 7/50\n",
      "------------------------------------------------------------------------------------------------------------------------\n"
     ]
    },
    {
     "name": "stderr",
     "output_type": "stream",
     "text": [
      "100%|████████████████████████████████████████████████████████████████████████████████| 408/408 [00:15<00:00, 26.79it/s]\n"
     ]
    },
    {
     "name": "stdout",
     "output_type": "stream",
     "text": [
      "train Loss: 1.2585 Style Acc: 0.5504\n",
      "            Genre Acc: 0.7106\n",
      "            Emotion Acc: 0.4353\n"
     ]
    },
    {
     "name": "stderr",
     "output_type": "stream",
     "text": [
      "100%|██████████████████████████████████████████████████████████████████████████████████| 51/51 [00:00<00:00, 55.44it/s]\n"
     ]
    },
    {
     "name": "stdout",
     "output_type": "stream",
     "text": [
      "val Loss: 1.2806 Style Acc: 0.5463\n",
      "            Genre Acc: 0.7096\n",
      "            Emotion Acc: 0.4361\n",
      "EarlyStopping counter: 1 out of 5\n",
      "Epoch 8/50\n",
      "------------------------------------------------------------------------------------------------------------------------\n"
     ]
    },
    {
     "name": "stderr",
     "output_type": "stream",
     "text": [
      "100%|████████████████████████████████████████████████████████████████████████████████| 408/408 [00:15<00:00, 26.69it/s]\n"
     ]
    },
    {
     "name": "stdout",
     "output_type": "stream",
     "text": [
      "train Loss: 1.2405 Style Acc: 0.5572\n",
      "            Genre Acc: 0.7151\n",
      "            Emotion Acc: 0.4383\n"
     ]
    },
    {
     "name": "stderr",
     "output_type": "stream",
     "text": [
      "100%|██████████████████████████████████████████████████████████████████████████████████| 51/51 [00:00<00:00, 57.38it/s]\n"
     ]
    },
    {
     "name": "stdout",
     "output_type": "stream",
     "text": [
      "val Loss: 1.2616 Style Acc: 0.5378\n",
      "            Genre Acc: 0.7143\n",
      "            Emotion Acc: 0.4383\n",
      "Validation loss decreased. Saving model...\n",
      "Epoch 9/50\n",
      "------------------------------------------------------------------------------------------------------------------------\n"
     ]
    },
    {
     "name": "stderr",
     "output_type": "stream",
     "text": [
      "100%|████████████████████████████████████████████████████████████████████████████████| 408/408 [00:15<00:00, 26.53it/s]\n"
     ]
    },
    {
     "name": "stdout",
     "output_type": "stream",
     "text": [
      "train Loss: 1.2272 Style Acc: 0.5639\n",
      "            Genre Acc: 0.7201\n",
      "            Emotion Acc: 0.4413\n"
     ]
    },
    {
     "name": "stderr",
     "output_type": "stream",
     "text": [
      "100%|██████████████████████████████████████████████████████████████████████████████████| 51/51 [00:00<00:00, 55.09it/s]\n"
     ]
    },
    {
     "name": "stdout",
     "output_type": "stream",
     "text": [
      "val Loss: 1.2353 Style Acc: 0.5588\n",
      "            Genre Acc: 0.7197\n",
      "            Emotion Acc: 0.4470\n",
      "Validation loss decreased. Saving model...\n",
      "Epoch 10/50\n",
      "------------------------------------------------------------------------------------------------------------------------\n"
     ]
    },
    {
     "name": "stderr",
     "output_type": "stream",
     "text": [
      "100%|████████████████████████████████████████████████████████████████████████████████| 408/408 [00:15<00:00, 27.06it/s]\n"
     ]
    },
    {
     "name": "stdout",
     "output_type": "stream",
     "text": [
      "train Loss: 1.2095 Style Acc: 0.5729\n",
      "            Genre Acc: 0.7249\n",
      "            Emotion Acc: 0.4425\n"
     ]
    },
    {
     "name": "stderr",
     "output_type": "stream",
     "text": [
      "100%|██████████████████████████████████████████████████████████████████████████████████| 51/51 [00:00<00:00, 56.36it/s]\n"
     ]
    },
    {
     "name": "stdout",
     "output_type": "stream",
     "text": [
      "val Loss: 1.2299 Style Acc: 0.5702\n",
      "            Genre Acc: 0.7223\n",
      "            Emotion Acc: 0.4415\n",
      "Validation loss decreased. Saving model...\n",
      "Epoch 11/50\n",
      "------------------------------------------------------------------------------------------------------------------------\n"
     ]
    },
    {
     "name": "stderr",
     "output_type": "stream",
     "text": [
      "100%|████████████████████████████████████████████████████████████████████████████████| 408/408 [00:15<00:00, 27.20it/s]\n"
     ]
    },
    {
     "name": "stdout",
     "output_type": "stream",
     "text": [
      "train Loss: 1.1990 Style Acc: 0.5786\n",
      "            Genre Acc: 0.7259\n",
      "            Emotion Acc: 0.4438\n"
     ]
    },
    {
     "name": "stderr",
     "output_type": "stream",
     "text": [
      "100%|██████████████████████████████████████████████████████████████████████████████████| 51/51 [00:00<00:00, 58.30it/s]\n"
     ]
    },
    {
     "name": "stdout",
     "output_type": "stream",
     "text": [
      "val Loss: 1.2336 Style Acc: 0.5643\n",
      "            Genre Acc: 0.7163\n",
      "            Emotion Acc: 0.4381\n",
      "EarlyStopping counter: 1 out of 5\n",
      "Epoch 12/50\n",
      "------------------------------------------------------------------------------------------------------------------------\n"
     ]
    },
    {
     "name": "stderr",
     "output_type": "stream",
     "text": [
      "100%|████████████████████████████████████████████████████████████████████████████████| 408/408 [00:15<00:00, 27.11it/s]\n"
     ]
    },
    {
     "name": "stdout",
     "output_type": "stream",
     "text": [
      "train Loss: 1.1828 Style Acc: 0.5855\n",
      "            Genre Acc: 0.7311\n",
      "            Emotion Acc: 0.4472\n"
     ]
    },
    {
     "name": "stderr",
     "output_type": "stream",
     "text": [
      "100%|██████████████████████████████████████████████████████████████████████████████████| 51/51 [00:00<00:00, 57.84it/s]\n"
     ]
    },
    {
     "name": "stdout",
     "output_type": "stream",
     "text": [
      "val Loss: 1.2180 Style Acc: 0.5712\n",
      "            Genre Acc: 0.7253\n",
      "            Emotion Acc: 0.4406\n",
      "Validation loss decreased. Saving model...\n",
      "Epoch 13/50\n",
      "------------------------------------------------------------------------------------------------------------------------\n"
     ]
    },
    {
     "name": "stderr",
     "output_type": "stream",
     "text": [
      "100%|████████████████████████████████████████████████████████████████████████████████| 408/408 [00:14<00:00, 27.21it/s]\n"
     ]
    },
    {
     "name": "stdout",
     "output_type": "stream",
     "text": [
      "train Loss: 1.1708 Style Acc: 0.5941\n",
      "            Genre Acc: 0.7360\n",
      "            Emotion Acc: 0.4490\n"
     ]
    },
    {
     "name": "stderr",
     "output_type": "stream",
     "text": [
      "100%|██████████████████████████████████████████████████████████████████████████████████| 51/51 [00:00<00:00, 58.17it/s]\n"
     ]
    },
    {
     "name": "stdout",
     "output_type": "stream",
     "text": [
      "val Loss: 1.2171 Style Acc: 0.5752\n",
      "            Genre Acc: 0.7287\n",
      "            Emotion Acc: 0.4430\n",
      "EarlyStopping counter: 1 out of 5\n",
      "Epoch 14/50\n",
      "------------------------------------------------------------------------------------------------------------------------\n"
     ]
    },
    {
     "name": "stderr",
     "output_type": "stream",
     "text": [
      "100%|████████████████████████████████████████████████████████████████████████████████| 408/408 [00:15<00:00, 26.81it/s]\n"
     ]
    },
    {
     "name": "stdout",
     "output_type": "stream",
     "text": [
      "train Loss: 1.1560 Style Acc: 0.6015\n",
      "            Genre Acc: 0.7405\n",
      "            Emotion Acc: 0.4491\n"
     ]
    },
    {
     "name": "stderr",
     "output_type": "stream",
     "text": [
      "100%|██████████████████████████████████████████████████████████████████████████████████| 51/51 [00:00<00:00, 52.48it/s]\n"
     ]
    },
    {
     "name": "stdout",
     "output_type": "stream",
     "text": [
      "val Loss: 1.2106 Style Acc: 0.5744\n",
      "            Genre Acc: 0.7289\n",
      "            Emotion Acc: 0.4433\n",
      "Validation loss decreased. Saving model...\n",
      "Epoch 15/50\n",
      "------------------------------------------------------------------------------------------------------------------------\n"
     ]
    },
    {
     "name": "stderr",
     "output_type": "stream",
     "text": [
      "100%|████████████████████████████████████████████████████████████████████████████████| 408/408 [00:15<00:00, 26.75it/s]\n"
     ]
    },
    {
     "name": "stdout",
     "output_type": "stream",
     "text": [
      "train Loss: 1.1437 Style Acc: 0.6078\n",
      "            Genre Acc: 0.7403\n",
      "            Emotion Acc: 0.4496\n"
     ]
    },
    {
     "name": "stderr",
     "output_type": "stream",
     "text": [
      "100%|██████████████████████████████████████████████████████████████████████████████████| 51/51 [00:00<00:00, 56.30it/s]\n"
     ]
    },
    {
     "name": "stdout",
     "output_type": "stream",
     "text": [
      "val Loss: 1.1987 Style Acc: 0.5895\n",
      "            Genre Acc: 0.7259\n",
      "            Emotion Acc: 0.4416\n",
      "Validation loss decreased. Saving model...\n",
      "Epoch 16/50\n",
      "------------------------------------------------------------------------------------------------------------------------\n"
     ]
    },
    {
     "name": "stderr",
     "output_type": "stream",
     "text": [
      "100%|████████████████████████████████████████████████████████████████████████████████| 408/408 [00:15<00:00, 26.45it/s]\n"
     ]
    },
    {
     "name": "stdout",
     "output_type": "stream",
     "text": [
      "train Loss: 1.1339 Style Acc: 0.6129\n",
      "            Genre Acc: 0.7462\n",
      "            Emotion Acc: 0.4529\n"
     ]
    },
    {
     "name": "stderr",
     "output_type": "stream",
     "text": [
      "100%|██████████████████████████████████████████████████████████████████████████████████| 51/51 [00:00<00:00, 57.12it/s]\n"
     ]
    },
    {
     "name": "stdout",
     "output_type": "stream",
     "text": [
      "val Loss: 1.1934 Style Acc: 0.5878\n",
      "            Genre Acc: 0.7267\n",
      "            Emotion Acc: 0.4435\n",
      "Validation loss decreased. Saving model...\n",
      "Epoch 17/50\n",
      "------------------------------------------------------------------------------------------------------------------------\n"
     ]
    },
    {
     "name": "stderr",
     "output_type": "stream",
     "text": [
      "100%|████████████████████████████████████████████████████████████████████████████████| 408/408 [00:15<00:00, 26.75it/s]\n"
     ]
    },
    {
     "name": "stdout",
     "output_type": "stream",
     "text": [
      "train Loss: 1.1213 Style Acc: 0.6199\n",
      "            Genre Acc: 0.7492\n",
      "            Emotion Acc: 0.4533\n"
     ]
    },
    {
     "name": "stderr",
     "output_type": "stream",
     "text": [
      "100%|██████████████████████████████████████████████████████████████████████████████████| 51/51 [00:00<00:00, 57.57it/s]\n"
     ]
    },
    {
     "name": "stdout",
     "output_type": "stream",
     "text": [
      "val Loss: 1.2034 Style Acc: 0.5916\n",
      "            Genre Acc: 0.7191\n",
      "            Emotion Acc: 0.4433\n",
      "EarlyStopping counter: 1 out of 5\n",
      "Epoch 18/50\n",
      "------------------------------------------------------------------------------------------------------------------------\n"
     ]
    },
    {
     "name": "stderr",
     "output_type": "stream",
     "text": [
      "100%|████████████████████████████████████████████████████████████████████████████████| 408/408 [00:14<00:00, 27.28it/s]\n"
     ]
    },
    {
     "name": "stdout",
     "output_type": "stream",
     "text": [
      "train Loss: 1.1094 Style Acc: 0.6268\n",
      "            Genre Acc: 0.7533\n",
      "            Emotion Acc: 0.4549\n"
     ]
    },
    {
     "name": "stderr",
     "output_type": "stream",
     "text": [
      "100%|██████████████████████████████████████████████████████████████████████████████████| 51/51 [00:00<00:00, 57.38it/s]\n"
     ]
    },
    {
     "name": "stdout",
     "output_type": "stream",
     "text": [
      "val Loss: 1.2000 Style Acc: 0.5945\n",
      "            Genre Acc: 0.7253\n",
      "            Emotion Acc: 0.4375\n",
      "Epoch 00018: reducing learning rate of group 0 to 5.0000e-05.\n",
      "EarlyStopping counter: 2 out of 5\n",
      "Epoch 19/50\n",
      "------------------------------------------------------------------------------------------------------------------------\n"
     ]
    },
    {
     "name": "stderr",
     "output_type": "stream",
     "text": [
      "100%|████████████████████████████████████████████████████████████████████████████████| 408/408 [00:14<00:00, 27.20it/s]\n"
     ]
    },
    {
     "name": "stdout",
     "output_type": "stream",
     "text": [
      "train Loss: 1.0700 Style Acc: 0.6456\n",
      "            Genre Acc: 0.7654\n",
      "            Emotion Acc: 0.4602\n"
     ]
    },
    {
     "name": "stderr",
     "output_type": "stream",
     "text": [
      "100%|██████████████████████████████████████████████████████████████████████████████████| 51/51 [00:00<00:00, 58.10it/s]\n"
     ]
    },
    {
     "name": "stdout",
     "output_type": "stream",
     "text": [
      "val Loss: 1.1619 Style Acc: 0.6063\n",
      "            Genre Acc: 0.7367\n",
      "            Emotion Acc: 0.4456\n",
      "Validation loss decreased. Saving model...\n",
      "Epoch 20/50\n",
      "------------------------------------------------------------------------------------------------------------------------\n"
     ]
    },
    {
     "name": "stderr",
     "output_type": "stream",
     "text": [
      "100%|████████████████████████████████████████████████████████████████████████████████| 408/408 [00:15<00:00, 27.20it/s]\n"
     ]
    },
    {
     "name": "stdout",
     "output_type": "stream",
     "text": [
      "train Loss: 1.0555 Style Acc: 0.6549\n",
      "            Genre Acc: 0.7716\n",
      "            Emotion Acc: 0.4640\n"
     ]
    },
    {
     "name": "stderr",
     "output_type": "stream",
     "text": [
      "100%|██████████████████████████████████████████████████████████████████████████████████| 51/51 [00:00<00:00, 57.71it/s]\n"
     ]
    },
    {
     "name": "stdout",
     "output_type": "stream",
     "text": [
      "val Loss: 1.1681 Style Acc: 0.6088\n",
      "            Genre Acc: 0.7342\n",
      "            Emotion Acc: 0.4447\n",
      "EarlyStopping counter: 1 out of 5\n",
      "Epoch 21/50\n",
      "------------------------------------------------------------------------------------------------------------------------\n"
     ]
    },
    {
     "name": "stderr",
     "output_type": "stream",
     "text": [
      "100%|████████████████████████████████████████████████████████████████████████████████| 408/408 [00:15<00:00, 26.96it/s]\n"
     ]
    },
    {
     "name": "stdout",
     "output_type": "stream",
     "text": [
      "train Loss: 1.0469 Style Acc: 0.6589\n",
      "            Genre Acc: 0.7717\n",
      "            Emotion Acc: 0.4644\n"
     ]
    },
    {
     "name": "stderr",
     "output_type": "stream",
     "text": [
      "100%|██████████████████████████████████████████████████████████████████████████████████| 51/51 [00:00<00:00, 54.85it/s]\n"
     ]
    },
    {
     "name": "stdout",
     "output_type": "stream",
     "text": [
      "val Loss: 1.1652 Style Acc: 0.6055\n",
      "            Genre Acc: 0.7351\n",
      "            Emotion Acc: 0.4475\n",
      "Epoch 00021: reducing learning rate of group 0 to 2.5000e-05.\n",
      "EarlyStopping counter: 2 out of 5\n",
      "Epoch 22/50\n",
      "------------------------------------------------------------------------------------------------------------------------\n"
     ]
    },
    {
     "name": "stderr",
     "output_type": "stream",
     "text": [
      "100%|████████████████████████████████████████████████████████████████████████████████| 408/408 [00:15<00:00, 26.57it/s]\n"
     ]
    },
    {
     "name": "stdout",
     "output_type": "stream",
     "text": [
      "train Loss: 1.0245 Style Acc: 0.6705\n",
      "            Genre Acc: 0.7790\n",
      "            Emotion Acc: 0.4687\n"
     ]
    },
    {
     "name": "stderr",
     "output_type": "stream",
     "text": [
      "100%|██████████████████████████████████████████████████████████████████████████████████| 51/51 [00:00<00:00, 54.55it/s]\n"
     ]
    },
    {
     "name": "stdout",
     "output_type": "stream",
     "text": [
      "val Loss: 1.1477 Style Acc: 0.6149\n",
      "            Genre Acc: 0.7448\n",
      "            Emotion Acc: 0.4459\n",
      "Validation loss decreased. Saving model...\n",
      "Epoch 23/50\n",
      "------------------------------------------------------------------------------------------------------------------------\n"
     ]
    },
    {
     "name": "stderr",
     "output_type": "stream",
     "text": [
      "100%|████████████████████████████████████████████████████████████████████████████████| 408/408 [00:15<00:00, 26.67it/s]\n"
     ]
    },
    {
     "name": "stdout",
     "output_type": "stream",
     "text": [
      "train Loss: 1.0172 Style Acc: 0.6730\n",
      "            Genre Acc: 0.7791\n",
      "            Emotion Acc: 0.4699\n"
     ]
    },
    {
     "name": "stderr",
     "output_type": "stream",
     "text": [
      "100%|██████████████████████████████████████████████████████████████████████████████████| 51/51 [00:00<00:00, 56.68it/s]\n"
     ]
    },
    {
     "name": "stdout",
     "output_type": "stream",
     "text": [
      "val Loss: 1.1479 Style Acc: 0.6132\n",
      "            Genre Acc: 0.7405\n",
      "            Emotion Acc: 0.4419\n",
      "EarlyStopping counter: 1 out of 5\n",
      "Epoch 24/50\n",
      "------------------------------------------------------------------------------------------------------------------------\n"
     ]
    },
    {
     "name": "stderr",
     "output_type": "stream",
     "text": [
      "100%|████████████████████████████████████████████████████████████████████████████████| 408/408 [00:15<00:00, 26.49it/s]\n"
     ]
    },
    {
     "name": "stdout",
     "output_type": "stream",
     "text": [
      "train Loss: 1.0109 Style Acc: 0.6770\n",
      "            Genre Acc: 0.7829\n",
      "            Emotion Acc: 0.4687\n"
     ]
    },
    {
     "name": "stderr",
     "output_type": "stream",
     "text": [
      "100%|██████████████████████████████████████████████████████████████████████████████████| 51/51 [00:00<00:00, 57.32it/s]\n"
     ]
    },
    {
     "name": "stdout",
     "output_type": "stream",
     "text": [
      "val Loss: 1.1454 Style Acc: 0.6155\n",
      "            Genre Acc: 0.7420\n",
      "            Emotion Acc: 0.4409\n",
      "Validation loss decreased. Saving model...\n",
      "Epoch 25/50\n",
      "------------------------------------------------------------------------------------------------------------------------\n"
     ]
    },
    {
     "name": "stderr",
     "output_type": "stream",
     "text": [
      "100%|████████████████████████████████████████████████████████████████████████████████| 408/408 [00:14<00:00, 27.26it/s]\n"
     ]
    },
    {
     "name": "stdout",
     "output_type": "stream",
     "text": [
      "train Loss: 1.0041 Style Acc: 0.6763\n",
      "            Genre Acc: 0.7856\n",
      "            Emotion Acc: 0.4705\n"
     ]
    },
    {
     "name": "stderr",
     "output_type": "stream",
     "text": [
      "100%|██████████████████████████████████████████████████████████████████████████████████| 51/51 [00:00<00:00, 57.64it/s]\n"
     ]
    },
    {
     "name": "stdout",
     "output_type": "stream",
     "text": [
      "val Loss: 1.1460 Style Acc: 0.6166\n",
      "            Genre Acc: 0.7434\n",
      "            Emotion Acc: 0.4450\n",
      "EarlyStopping counter: 1 out of 5\n",
      "Epoch 26/50\n",
      "------------------------------------------------------------------------------------------------------------------------\n"
     ]
    },
    {
     "name": "stderr",
     "output_type": "stream",
     "text": [
      "100%|████████████████████████████████████████████████████████████████████████████████| 408/408 [00:15<00:00, 27.16it/s]\n"
     ]
    },
    {
     "name": "stdout",
     "output_type": "stream",
     "text": [
      "train Loss: 0.9999 Style Acc: 0.6833\n",
      "            Genre Acc: 0.7858\n",
      "            Emotion Acc: 0.4705\n"
     ]
    },
    {
     "name": "stderr",
     "output_type": "stream",
     "text": [
      "100%|██████████████████████████████████████████████████████████████████████████████████| 51/51 [00:00<00:00, 56.93it/s]\n"
     ]
    },
    {
     "name": "stdout",
     "output_type": "stream",
     "text": [
      "val Loss: 1.1438 Style Acc: 0.6170\n",
      "            Genre Acc: 0.7423\n",
      "            Emotion Acc: 0.4459\n",
      "Validation loss decreased. Saving model...\n",
      "Epoch 27/50\n",
      "------------------------------------------------------------------------------------------------------------------------\n"
     ]
    },
    {
     "name": "stderr",
     "output_type": "stream",
     "text": [
      "100%|████████████████████████████████████████████████████████████████████████████████| 408/408 [00:15<00:00, 27.10it/s]\n"
     ]
    },
    {
     "name": "stdout",
     "output_type": "stream",
     "text": [
      "train Loss: 0.9947 Style Acc: 0.6832\n",
      "            Genre Acc: 0.7875\n",
      "            Emotion Acc: 0.4734\n"
     ]
    },
    {
     "name": "stderr",
     "output_type": "stream",
     "text": [
      "100%|██████████████████████████████████████████████████████████████████████████████████| 51/51 [00:00<00:00, 59.39it/s]\n"
     ]
    },
    {
     "name": "stdout",
     "output_type": "stream",
     "text": [
      "val Loss: 1.1450 Style Acc: 0.6141\n",
      "            Genre Acc: 0.7399\n",
      "            Emotion Acc: 0.4404\n",
      "EarlyStopping counter: 1 out of 5\n",
      "Epoch 28/50\n",
      "------------------------------------------------------------------------------------------------------------------------\n"
     ]
    },
    {
     "name": "stderr",
     "output_type": "stream",
     "text": [
      "100%|████████████████████████████████████████████████████████████████████████████████| 408/408 [00:15<00:00, 27.14it/s]\n"
     ]
    },
    {
     "name": "stdout",
     "output_type": "stream",
     "text": [
      "train Loss: 0.9890 Style Acc: 0.6875\n",
      "            Genre Acc: 0.7893\n",
      "            Emotion Acc: 0.4737\n"
     ]
    },
    {
     "name": "stderr",
     "output_type": "stream",
     "text": [
      "100%|██████████████████████████████████████████████████████████████████████████████████| 51/51 [00:00<00:00, 52.05it/s]\n"
     ]
    },
    {
     "name": "stdout",
     "output_type": "stream",
     "text": [
      "val Loss: 1.1450 Style Acc: 0.6160\n",
      "            Genre Acc: 0.7434\n",
      "            Emotion Acc: 0.4436\n",
      "Epoch 00028: reducing learning rate of group 0 to 1.2500e-05.\n",
      "EarlyStopping counter: 2 out of 5\n",
      "Epoch 29/50\n",
      "------------------------------------------------------------------------------------------------------------------------\n"
     ]
    },
    {
     "name": "stderr",
     "output_type": "stream",
     "text": [
      "100%|████████████████████████████████████████████████████████████████████████████████| 408/408 [00:15<00:00, 26.68it/s]\n"
     ]
    },
    {
     "name": "stdout",
     "output_type": "stream",
     "text": [
      "train Loss: 0.9771 Style Acc: 0.6936\n",
      "            Genre Acc: 0.7938\n",
      "            Emotion Acc: 0.4745\n"
     ]
    },
    {
     "name": "stderr",
     "output_type": "stream",
     "text": [
      "100%|██████████████████████████████████████████████████████████████████████████████████| 51/51 [00:00<00:00, 53.86it/s]\n"
     ]
    },
    {
     "name": "stdout",
     "output_type": "stream",
     "text": [
      "val Loss: 1.1430 Style Acc: 0.6195\n",
      "            Genre Acc: 0.7445\n",
      "            Emotion Acc: 0.4433\n",
      "EarlyStopping counter: 3 out of 5\n",
      "Epoch 30/50\n",
      "------------------------------------------------------------------------------------------------------------------------\n"
     ]
    },
    {
     "name": "stderr",
     "output_type": "stream",
     "text": [
      "100%|████████████████████████████████████████████████████████████████████████████████| 408/408 [00:15<00:00, 26.72it/s]\n"
     ]
    },
    {
     "name": "stdout",
     "output_type": "stream",
     "text": [
      "train Loss: 0.9726 Style Acc: 0.6969\n",
      "            Genre Acc: 0.7955\n",
      "            Emotion Acc: 0.4745\n"
     ]
    },
    {
     "name": "stderr",
     "output_type": "stream",
     "text": [
      "100%|██████████████████████████████████████████████████████████████████████████████████| 51/51 [00:00<00:00, 56.49it/s]\n"
     ]
    },
    {
     "name": "stdout",
     "output_type": "stream",
     "text": [
      "val Loss: 1.1394 Style Acc: 0.6186\n",
      "            Genre Acc: 0.7460\n",
      "            Emotion Acc: 0.4436\n",
      "Validation loss decreased. Saving model...\n",
      "Epoch 31/50\n",
      "------------------------------------------------------------------------------------------------------------------------\n"
     ]
    },
    {
     "name": "stderr",
     "output_type": "stream",
     "text": [
      "100%|████████████████████████████████████████████████████████████████████████████████| 408/408 [00:15<00:00, 26.61it/s]\n"
     ]
    },
    {
     "name": "stdout",
     "output_type": "stream",
     "text": [
      "train Loss: 0.9694 Style Acc: 0.6969\n",
      "            Genre Acc: 0.7958\n",
      "            Emotion Acc: 0.4746\n"
     ]
    },
    {
     "name": "stderr",
     "output_type": "stream",
     "text": [
      "100%|██████████████████████████████████████████████████████████████████████████████████| 51/51 [00:00<00:00, 53.86it/s]\n"
     ]
    },
    {
     "name": "stdout",
     "output_type": "stream",
     "text": [
      "val Loss: 1.1392 Style Acc: 0.6199\n",
      "            Genre Acc: 0.7446\n",
      "            Emotion Acc: 0.4444\n",
      "EarlyStopping counter: 1 out of 5\n",
      "Epoch 32/50\n",
      "------------------------------------------------------------------------------------------------------------------------\n"
     ]
    },
    {
     "name": "stderr",
     "output_type": "stream",
     "text": [
      "100%|████████████████████████████████████████████████████████████████████████████████| 408/408 [00:15<00:00, 26.89it/s]\n"
     ]
    },
    {
     "name": "stdout",
     "output_type": "stream",
     "text": [
      "train Loss: 0.9666 Style Acc: 0.6983\n",
      "            Genre Acc: 0.7972\n",
      "            Emotion Acc: 0.4763\n"
     ]
    },
    {
     "name": "stderr",
     "output_type": "stream",
     "text": [
      "100%|██████████████████████████████████████████████████████████████████████████████████| 51/51 [00:00<00:00, 56.49it/s]\n"
     ]
    },
    {
     "name": "stdout",
     "output_type": "stream",
     "text": [
      "val Loss: 1.1396 Style Acc: 0.6229\n",
      "            Genre Acc: 0.7431\n",
      "            Emotion Acc: 0.4436\n",
      "EarlyStopping counter: 2 out of 5\n",
      "Epoch 33/50\n",
      "------------------------------------------------------------------------------------------------------------------------\n"
     ]
    },
    {
     "name": "stderr",
     "output_type": "stream",
     "text": [
      "100%|████████████████████████████████████████████████████████████████████████████████| 408/408 [00:15<00:00, 27.17it/s]\n"
     ]
    },
    {
     "name": "stdout",
     "output_type": "stream",
     "text": [
      "train Loss: 0.9634 Style Acc: 0.7029\n",
      "            Genre Acc: 0.7974\n",
      "            Emotion Acc: 0.4758\n"
     ]
    },
    {
     "name": "stderr",
     "output_type": "stream",
     "text": [
      "100%|██████████████████████████████████████████████████████████████████████████████████| 51/51 [00:00<00:00, 58.03it/s]\n"
     ]
    },
    {
     "name": "stdout",
     "output_type": "stream",
     "text": [
      "val Loss: 1.1409 Style Acc: 0.6186\n",
      "            Genre Acc: 0.7445\n",
      "            Emotion Acc: 0.4447\n",
      "Epoch 00033: reducing learning rate of group 0 to 6.2500e-06.\n",
      "EarlyStopping counter: 3 out of 5\n",
      "Epoch 34/50\n",
      "------------------------------------------------------------------------------------------------------------------------\n"
     ]
    },
    {
     "name": "stderr",
     "output_type": "stream",
     "text": [
      "100%|████████████████████████████████████████████████████████████████████████████████| 408/408 [00:15<00:00, 27.16it/s]\n"
     ]
    },
    {
     "name": "stdout",
     "output_type": "stream",
     "text": [
      "train Loss: 0.9556 Style Acc: 0.7047\n",
      "            Genre Acc: 0.8004\n",
      "            Emotion Acc: 0.4769\n"
     ]
    },
    {
     "name": "stderr",
     "output_type": "stream",
     "text": [
      "100%|██████████████████████████████████████████████████████████████████████████████████| 51/51 [00:00<00:00, 58.03it/s]\n"
     ]
    },
    {
     "name": "stdout",
     "output_type": "stream",
     "text": [
      "val Loss: 1.1375 Style Acc: 0.6216\n",
      "            Genre Acc: 0.7460\n",
      "            Emotion Acc: 0.4435\n",
      "Validation loss decreased. Saving model...\n",
      "Epoch 35/50\n",
      "------------------------------------------------------------------------------------------------------------------------\n"
     ]
    },
    {
     "name": "stderr",
     "output_type": "stream",
     "text": [
      "100%|████████████████████████████████████████████████████████████████████████████████| 408/408 [00:15<00:00, 27.09it/s]\n"
     ]
    },
    {
     "name": "stdout",
     "output_type": "stream",
     "text": [
      "train Loss: 0.9554 Style Acc: 0.7038\n",
      "            Genre Acc: 0.8012\n",
      "            Emotion Acc: 0.4784\n"
     ]
    },
    {
     "name": "stderr",
     "output_type": "stream",
     "text": [
      "100%|██████████████████████████████████████████████████████████████████████████████████| 51/51 [00:00<00:00, 59.04it/s]\n"
     ]
    },
    {
     "name": "stdout",
     "output_type": "stream",
     "text": [
      "val Loss: 1.1390 Style Acc: 0.6236\n",
      "            Genre Acc: 0.7463\n",
      "            Emotion Acc: 0.4419\n",
      "EarlyStopping counter: 1 out of 5\n",
      "Epoch 36/50\n",
      "------------------------------------------------------------------------------------------------------------------------\n"
     ]
    },
    {
     "name": "stderr",
     "output_type": "stream",
     "text": [
      "100%|████████████████████████████████████████████████████████████████████████████████| 408/408 [00:15<00:00, 26.99it/s]\n"
     ]
    },
    {
     "name": "stdout",
     "output_type": "stream",
     "text": [
      "train Loss: 0.9521 Style Acc: 0.7062\n",
      "            Genre Acc: 0.8012\n",
      "            Emotion Acc: 0.4774\n"
     ]
    },
    {
     "name": "stderr",
     "output_type": "stream",
     "text": [
      "100%|██████████████████████████████████████████████████████████████████████████████████| 51/51 [00:00<00:00, 58.37it/s]\n"
     ]
    },
    {
     "name": "stdout",
     "output_type": "stream",
     "text": [
      "val Loss: 1.1399 Style Acc: 0.6212\n",
      "            Genre Acc: 0.7456\n",
      "            Emotion Acc: 0.4424\n",
      "Epoch 00036: reducing learning rate of group 0 to 3.1250e-06.\n",
      "EarlyStopping counter: 2 out of 5\n",
      "Epoch 37/50\n",
      "------------------------------------------------------------------------------------------------------------------------\n"
     ]
    },
    {
     "name": "stderr",
     "output_type": "stream",
     "text": [
      "100%|████████████████████████████████████████████████████████████████████████████████| 408/408 [00:15<00:00, 27.14it/s]\n"
     ]
    },
    {
     "name": "stdout",
     "output_type": "stream",
     "text": [
      "train Loss: 0.9496 Style Acc: 0.7051\n",
      "            Genre Acc: 0.8038\n",
      "            Emotion Acc: 0.4794\n"
     ]
    },
    {
     "name": "stderr",
     "output_type": "stream",
     "text": [
      "100%|██████████████████████████████████████████████████████████████████████████████████| 51/51 [00:00<00:00, 57.06it/s]\n"
     ]
    },
    {
     "name": "stdout",
     "output_type": "stream",
     "text": [
      "val Loss: 1.1388 Style Acc: 0.6216\n",
      "            Genre Acc: 0.7454\n",
      "            Emotion Acc: 0.4416\n",
      "EarlyStopping counter: 3 out of 5\n",
      "Epoch 38/50\n",
      "------------------------------------------------------------------------------------------------------------------------\n"
     ]
    },
    {
     "name": "stderr",
     "output_type": "stream",
     "text": [
      "100%|████████████████████████████████████████████████████████████████████████████████| 408/408 [00:15<00:00, 27.05it/s]\n"
     ]
    },
    {
     "name": "stdout",
     "output_type": "stream",
     "text": [
      "train Loss: 0.9476 Style Acc: 0.7110\n",
      "            Genre Acc: 0.8035\n",
      "            Emotion Acc: 0.4796\n"
     ]
    },
    {
     "name": "stderr",
     "output_type": "stream",
     "text": [
      "100%|██████████████████████████████████████████████████████████████████████████████████| 51/51 [00:00<00:00, 56.80it/s]\n"
     ]
    },
    {
     "name": "stdout",
     "output_type": "stream",
     "text": [
      "val Loss: 1.1371 Style Acc: 0.6242\n",
      "            Genre Acc: 0.7465\n",
      "            Emotion Acc: 0.4409\n",
      "EarlyStopping counter: 4 out of 5\n",
      "Epoch 39/50\n",
      "------------------------------------------------------------------------------------------------------------------------\n"
     ]
    },
    {
     "name": "stderr",
     "output_type": "stream",
     "text": [
      "100%|████████████████████████████████████████████████████████████████████████████████| 408/408 [00:15<00:00, 27.17it/s]\n"
     ]
    },
    {
     "name": "stdout",
     "output_type": "stream",
     "text": [
      "train Loss: 0.9468 Style Acc: 0.7072\n",
      "            Genre Acc: 0.8037\n",
      "            Emotion Acc: 0.4788\n"
     ]
    },
    {
     "name": "stderr",
     "output_type": "stream",
     "text": [
      "100%|██████████████████████████████████████████████████████████████████████████████████| 51/51 [00:00<00:00, 58.03it/s]"
     ]
    },
    {
     "name": "stdout",
     "output_type": "stream",
     "text": [
      "val Loss: 1.1373 Style Acc: 0.6232\n",
      "            Genre Acc: 0.7448\n",
      "            Emotion Acc: 0.4426\n",
      "EarlyStopping counter: 5 out of 5\n",
      "Best epoch: 0038\n",
      "Best loss: 1.1371\n"
     ]
    },
    {
     "name": "stderr",
     "output_type": "stream",
     "text": [
      "\n"
     ]
    }
   ],
   "source": [
    "batch_size = 128\n",
    "num_epochs = 50\n",
    "criterions = list(nn.CrossEntropyLoss() for _ in range(3))\n",
    "optimizer = optim.Adam(model.parameters(), lr=1e-4)\n",
    "early_stop= EarlyStopping(patience = 5, min_delta = 1e-3, checkpoint_path = 'best_new_multitask_model.pt')\n",
    "train_loader = DataLoader(train_dataset, batch_size = batch_size, shuffle = True, drop_last = False)\n",
    "val_loader = DataLoader(val_dataset, batch_size = batch_size, shuffle = True, drop_last = False)\n",
    "scheduler = lr_scheduler.ReduceLROnPlateau(optimizer, 'min', min_lr = 1e-7, verbose = True, factor = .5, patience = 1,\n",
    "                                               threshold = 1e-4)\n",
    "fine_tune(model, train, train_loader, val_loader, criterions, optimizer, early_stop, scheduler, num_epochs)\n"
   ]
  },
  {
   "cell_type": "code",
   "execution_count": 15,
   "id": "e474a410",
   "metadata": {},
   "outputs": [
    {
     "name": "stderr",
     "output_type": "stream",
     "text": [
      "100%|██████████████████████████████████████████████████████████████████████████████████| 51/51 [00:02<00:00, 20.19it/s]\n"
     ]
    }
   ],
   "source": [
    "model = torch.load('best_new_multitask_model.pt').to('cuda:0')\n",
    "with torch.no_grad():\n",
    "    pred, lab = test_func(model, test_loader, train, update_graph=False)"
   ]
  },
  {
   "cell_type": "code",
   "execution_count": 16,
   "id": "35d75436",
   "metadata": {},
   "outputs": [],
   "source": [
    "pred = {k: v.argmax(dim = 1).tolist() for k, v in pred.items()}"
   ]
  },
  {
   "cell_type": "code",
   "execution_count": 17,
   "id": "990d63c8",
   "metadata": {},
   "outputs": [],
   "source": [
    "import json\n",
    "with open('preds.json', 'w+') as f:\n",
    "    json.dump(pred, f)\n",
    "with open('labs.json', 'w+') as f:\n",
    "    json.dump(lab, f)"
   ]
  },
  {
   "cell_type": "code",
   "execution_count": 16,
   "id": "0c83ac2d",
   "metadata": {
    "scrolled": true
   },
   "outputs": [
    {
     "name": "stderr",
     "output_type": "stream",
     "text": [
      "100%|██████████████████████████████████████████████████████████████████████████████████| 51/51 [00:00<00:00, 59.66it/s]\n"
     ]
    },
    {
     "data": {
      "image/png": "[encoded data removed]",
      "text/plain": [
       "<Figure size 864x864 with 2 Axes>"
      ]
     },
     "metadata": {},
     "output_type": "display_data"
    },
    {
     "data": {
      "image/png": "[encoded data removed]",
      "text/plain": [
       "<Figure size 864x864 with 2 Axes>"
      ]
     },
     "metadata": {},
     "output_type": "display_data"
    },
    {
     "data": {
      "image/png": "[encoded data removed]",
      "text/plain": [
       "<Figure size 864x864 with 2 Axes>"
      ]
     },
     "metadata": {},
     "output_type": "display_data"
    }
   ],
   "source": [
    "model = torch.load('best_new_multitask_model.pt').to('cuda:0')\n",
    "map_hop={'style':5,\n",
    "        'genre':3,\n",
    "        'emotion':2}\n",
    "results_df = pd.DataFrame(columns = ['Top1', 'Top2', 'Macro-F1'], index = ('style', 'genre', 'emotion'))\n",
    "with torch.no_grad():\n",
    "    pred, lab = test_func(model, test_loader, train)\n",
    "for task in ('style', 'genre', 'emotion'):\n",
    "    results_df['Top1'].loc[task] = compute_topk(lab[task], pred[task], k=1)\n",
    "    results_df['Top2'].loc[task] = compute_topk(lab[task], pred[task], k=2)\n",
    "    pred_lab = torch.max(torch.Tensor(pred[task]), 1)[1]\n",
    "    results_df['Macro-F1'].loc[task] = f1_score(lab[task], pred_lab, average = 'macro')\n",
    "    labels = pd.read_csv(f'{root}/mapping/{task}_entidx2name.csv', names = ['idx','name'])['name'].tolist()\n",
    "    if task == 'style':\n",
    "        labels = labels[1:-1]\n",
    "    plot_confusion_matrix(lab[task], pred_lab, hop = map_hop[task], labels = labels)"
   ]
  },
  {
   "cell_type": "code",
   "execution_count": 17,
   "id": "f304d151",
   "metadata": {},
   "outputs": [],
   "source": [
    "results_df.to_csv('results_multi_task_fine_tuning.csv')"
   ]
  },
  {
   "cell_type": "code",
   "execution_count": 18,
   "id": "b0ef5e94",
   "metadata": {
    "scrolled": true
   },
   "outputs": [
    {
     "name": "stderr",
     "output_type": "stream",
     "text": [
      "100%|██████████████████████████████████████████████████████████████████████████████████| 51/51 [00:01<00:00, 30.10it/s]\n"
     ]
    }
   ],
   "source": [
    "model = torch.load('best_new_multitask_model.pt').to('cuda:0')\n",
    "map_hop={'style':5,\n",
    "        'genre':3,\n",
    "        'emotion':2}\n",
    "results_df = pd.DataFrame(columns = ['Top1', 'Top2', 'Macro-F1'], index = ('style', 'genre', 'emotion'))\n",
    "with torch.no_grad():\n",
    "    pred, lab = test_func(model, test_loader, train, update_graph=True)\n",
    "for task in ('style', 'genre', 'emotion'):\n",
    "    results_df['Top1'].loc[task] = compute_topk(lab[task], pred[task], k=1)\n",
    "    results_df['Top2'].loc[task] = compute_topk(lab[task], pred[task], k=2)\n",
    "    pred_lab = torch.max(torch.Tensor(pred[task]), 1)[1]\n",
    "    results_df['Macro-F1'].loc[task] = f1_score(lab[task], pred_lab, average = 'macro')\n",
    "    labels = pd.read_csv(f'{root}/mapping/{task}_entidx2name.csv', names = ['idx','name'])['name'].tolist()\n",
    "    if task == 'style':\n",
    "        labels = labels[1:-1]\n",
    "    #plot_confusion_matrix(lab[task], pred_lab, hop = map_hop[task], labels = labels)"
   ]
  },
  {
   "cell_type": "code",
   "execution_count": 19,
   "id": "9179d7c3",
   "metadata": {
    "scrolled": true
   },
   "outputs": [
    {
     "data": {
      "text/html": [
       "<div>\n",
       "<style scoped>\n",
       "    .dataframe tbody tr th:only-of-type {\n",
       "        vertical-align: middle;\n",
       "    }\n",
       "\n",
       "    .dataframe tbody tr th {\n",
       "        vertical-align: top;\n",
       "    }\n",
       "\n",
       "    .dataframe thead th {\n",
       "        text-align: right;\n",
       "    }\n",
       "</style>\n",
       "<table border=\"1\" class=\"dataframe\">\n",
       "  <thead>\n",
       "    <tr style=\"text-align: right;\">\n",
       "      <th></th>\n",
       "      <th>Top1</th>\n",
       "      <th>Top2</th>\n",
       "      <th>Macro-F1</th>\n",
       "    </tr>\n",
       "  </thead>\n",
       "  <tbody>\n",
       "    <tr>\n",
       "      <th>style</th>\n",
       "      <td>0.63295</td>\n",
       "      <td>0.805211</td>\n",
       "      <td>0.47451</td>\n",
       "    </tr>\n",
       "    <tr>\n",
       "      <th>genre</th>\n",
       "      <td>0.753257</td>\n",
       "      <td>0.885057</td>\n",
       "      <td>0.636916</td>\n",
       "    </tr>\n",
       "    <tr>\n",
       "      <th>emotion</th>\n",
       "      <td>0.455172</td>\n",
       "      <td>0.638621</td>\n",
       "      <td>0.273231</td>\n",
       "    </tr>\n",
       "  </tbody>\n",
       "</table>\n",
       "</div>"
      ],
      "text/plain": [
       "             Top1      Top2  Macro-F1\n",
       "style     0.63295  0.805211   0.47451\n",
       "genre    0.753257  0.885057  0.636916\n",
       "emotion  0.455172  0.638621  0.273231"
      ]
     },
     "execution_count": 19,
     "metadata": {},
     "output_type": "execute_result"
    }
   ],
   "source": [
    "results_df"
   ]
  },
  {
   "cell_type": "code",
   "execution_count": 20,
   "id": "f90d2067",
   "metadata": {},
   "outputs": [],
   "source": [
    "results_df.to_csv('results_multi_task_fine_tuning_update.csv')"
   ]
  },
  {
   "cell_type": "markdown",
   "id": "e63ecedd",
   "metadata": {},
   "source": [
    "Nuovo test, senza encoder pre-trained"
   ]
  },
  {
   "cell_type": "code",
   "execution_count": 21,
   "id": "8477acdf",
   "metadata": {
    "scrolled": true
   },
   "outputs": [
    {
     "data": {
      "text/plain": [
       "MultiTaskClassificationModel(\n",
       "  (encoder): GraphModule(\n",
       "    (convs): ModuleList(\n",
       "      (0): ModuleDict(\n",
       "        (artist__belongstofield__field): GATConv((-1, -1), 128, heads=1)\n",
       "        (artist__belongstomovement__movement): GATConv((-1, -1), 128, heads=1)\n",
       "        (artist__haspatron__people): GATConv((-1, -1), 128, heads=1)\n",
       "        (artist__hassubject__subject): GATConv((-1, -1), 128, heads=1)\n",
       "        (artist__relatedtoschool__training_node): GATConv((-1, -1), 128, heads=1)\n",
       "        (artist__trainedby__artist): GATConv((-1, -1), 128, heads=1)\n",
       "        (artwork__about__tag): GATConv((-1, -1), 128, heads=1)\n",
       "        (artwork__createdby__artist): GATConv((-1, -1), 128, heads=1)\n",
       "        (artwork__elicit__emotion): GATConv((-1, -1), 128, heads=1)\n",
       "        (artwork__hasgenre__genre): GATConv((-1, -1), 128, heads=1)\n",
       "        (artwork__hasperiod__period): GATConv((-1, -1), 128, heads=1)\n",
       "        (artwork__hasstyle__style): GATConv((-1, -1), 128, heads=1)\n",
       "        (artwork__locatedin__city): GATConv((-1, -1), 128, heads=1)\n",
       "        (artwork__locatedin__country): GATConv((-1, -1), 128, heads=1)\n",
       "        (artwork__locatedin__gallery): GATConv((-1, -1), 128, heads=1)\n",
       "        (artwork__madeof__media): GATConv((-1, -1), 128, heads=1)\n",
       "        (artwork__partof__serie): GATConv((-1, -1), 128, heads=1)\n",
       "        (city__incountry__country): GATConv((-1, -1), 128, heads=1)\n",
       "        (gallery__incity__city): GATConv((-1, -1), 128, heads=1)\n",
       "        (gallery__incountry__country): GATConv((-1, -1), 128, heads=1)\n",
       "        (field__rev_belongstofield__artist): GATConv((-1, -1), 128, heads=1)\n",
       "        (movement__rev_belongstomovement__artist): GATConv((-1, -1), 128, heads=1)\n",
       "        (people__rev_haspatron__artist): GATConv((-1, -1), 128, heads=1)\n",
       "        (subject__rev_hassubject__artist): GATConv((-1, -1), 128, heads=1)\n",
       "        (training_node__rev_relatedtoschool__artist): GATConv((-1, -1), 128, heads=1)\n",
       "        (tag__rev_about__artwork): GATConv((-1, -1), 128, heads=1)\n",
       "        (artist__rev_createdby__artwork): GATConv((-1, -1), 128, heads=1)\n",
       "        (emotion__rev_elicit__artwork): GATConv((-1, -1), 128, heads=1)\n",
       "        (genre__rev_hasgenre__artwork): GATConv((-1, -1), 128, heads=1)\n",
       "        (period__rev_hasperiod__artwork): GATConv((-1, -1), 128, heads=1)\n",
       "        (style__rev_hasstyle__artwork): GATConv((-1, -1), 128, heads=1)\n",
       "        (city__rev_locatedin__artwork): GATConv((-1, -1), 128, heads=1)\n",
       "        (country__rev_locatedin__artwork): GATConv((-1, -1), 128, heads=1)\n",
       "        (gallery__rev_locatedin__artwork): GATConv((-1, -1), 128, heads=1)\n",
       "        (media__rev_madeof__artwork): GATConv((-1, -1), 128, heads=1)\n",
       "        (serie__rev_partof__artwork): GATConv((-1, -1), 128, heads=1)\n",
       "        (country__rev_incountry__city): GATConv((-1, -1), 128, heads=1)\n",
       "        (city__rev_incity__gallery): GATConv((-1, -1), 128, heads=1)\n",
       "        (country__rev_incountry__gallery): GATConv((-1, -1), 128, heads=1)\n",
       "        (artist__rev_rev_belongstofield__field): GATConv((-1, -1), 128, heads=1)\n",
       "        (artist__rev_rev_belongstomovement__movement): GATConv((-1, -1), 128, heads=1)\n",
       "        (artist__rev_rev_haspatron__people): GATConv((-1, -1), 128, heads=1)\n",
       "        (artist__rev_rev_hassubject__subject): GATConv((-1, -1), 128, heads=1)\n",
       "        (artist__rev_rev_relatedtoschool__training_node): GATConv((-1, -1), 128, heads=1)\n",
       "        (artwork__rev_rev_about__tag): GATConv((-1, -1), 128, heads=1)\n",
       "        (artwork__rev_rev_createdby__artist): GATConv((-1, -1), 128, heads=1)\n",
       "        (artwork__rev_rev_elicit__emotion): GATConv((-1, -1), 128, heads=1)\n",
       "        (artwork__rev_rev_hasgenre__genre): GATConv((-1, -1), 128, heads=1)\n",
       "        (artwork__rev_rev_hasperiod__period): GATConv((-1, -1), 128, heads=1)\n",
       "        (artwork__rev_rev_hasstyle__style): GATConv((-1, -1), 128, heads=1)\n",
       "        (artwork__rev_rev_locatedin__city): GATConv((-1, -1), 128, heads=1)\n",
       "        (artwork__rev_rev_locatedin__country): GATConv((-1, -1), 128, heads=1)\n",
       "        (artwork__rev_rev_locatedin__gallery): GATConv((-1, -1), 128, heads=1)\n",
       "        (artwork__rev_rev_madeof__media): GATConv((-1, -1), 128, heads=1)\n",
       "        (artwork__rev_rev_partof__serie): GATConv((-1, -1), 128, heads=1)\n",
       "        (city__rev_rev_incountry__country): GATConv((-1, -1), 128, heads=1)\n",
       "        (gallery__rev_rev_incity__city): GATConv((-1, -1), 128, heads=1)\n",
       "        (gallery__rev_rev_incountry__country): GATConv((-1, -1), 128, heads=1)\n",
       "      )\n",
       "    )\n",
       "    (activation): ModuleDict(\n",
       "      (artwork): Tanh()\n",
       "      (artist): Tanh()\n",
       "      (gallery): Tanh()\n",
       "      (city): Tanh()\n",
       "      (country): Tanh()\n",
       "      (style): Tanh()\n",
       "      (period): Tanh()\n",
       "      (genre): Tanh()\n",
       "      (serie): Tanh()\n",
       "      (tag): Tanh()\n",
       "      (media): Tanh()\n",
       "      (subject): Tanh()\n",
       "      (training_node): Tanh()\n",
       "      (field): Tanh()\n",
       "      (movement): Tanh()\n",
       "      (people): Tanh()\n",
       "      (emotion): Tanh()\n",
       "    )\n",
       "  )\n",
       "  (head): MultiTaskHead(\n",
       "    (head): Sequential(\n",
       "      (0): Linear(in_features=7680, out_features=3840, bias=True)\n",
       "      (1): ReLU(inplace=True)\n",
       "      (2): Dropout(p=0.2, inplace=False)\n",
       "      (3): Linear(in_features=3840, out_features=1920, bias=True)\n",
       "      (4): ReLU(inplace=True)\n",
       "      (5): Dropout(p=0.2, inplace=False)\n",
       "      (6): Linear(in_features=1920, out_features=960, bias=True)\n",
       "      (7): ReLU(inplace=True)\n",
       "      (8): Dropout(p=0.2, inplace=False)\n",
       "      (9): Linear(in_features=960, out_features=480, bias=True)\n",
       "      (10): ReLU(inplace=True)\n",
       "      (11): Dropout(p=0.2, inplace=False)\n",
       "    )\n",
       "  )\n",
       "  (head_style): Linear(in_features=480, out_features=32, bias=True)\n",
       "  (head_genre): Linear(in_features=480, out_features=18, bias=True)\n",
       "  (head_emotion): Linear(in_features=480, out_features=9, bias=True)\n",
       ")"
      ]
     },
     "execution_count": 21,
     "metadata": {},
     "output_type": "execute_result"
    }
   ],
   "source": [
    "model = MultiTaskClassificationModel(data = train, hidden_channels = 128, head_num_layers = 5).to(device)\n",
    "model"
   ]
  },
  {
   "cell_type": "code",
   "execution_count": 22,
   "id": "1fafb827",
   "metadata": {},
   "outputs": [],
   "source": [
    "from torch_geometric.transforms import ToUndirected\n",
    "train = ToUndirected()(train).to(device)\n",
    "with torch.no_grad():\n",
    "    model.encoder(train.x_dict, train.edge_index_dict)"
   ]
  },
  {
   "cell_type": "code",
   "execution_count": 23,
   "id": "d36358b7",
   "metadata": {},
   "outputs": [
    {
     "name": "stdout",
     "output_type": "stream",
     "text": [
      "Epoch 1/50\n",
      "------------------------------------------------------------------------------------------------------------------------\n"
     ]
    },
    {
     "name": "stderr",
     "output_type": "stream",
     "text": [
      "100%|████████████████████████████████████████████████████████████████████████████████| 408/408 [00:56<00:00,  7.22it/s]\n"
     ]
    },
    {
     "name": "stdout",
     "output_type": "stream",
     "text": [
      "train Loss: 1.8264 Style Acc: 0.3025\n",
      "            Genre Acc: 0.5284\n",
      "            Emotion Acc: 0.3808\n"
     ]
    },
    {
     "name": "stderr",
     "output_type": "stream",
     "text": [
      "100%|██████████████████████████████████████████████████████████████████████████████████| 51/51 [00:05<00:00,  9.31it/s]\n"
     ]
    },
    {
     "name": "stdout",
     "output_type": "stream",
     "text": [
      "val Loss: 1.4965 Style Acc: 0.4229\n",
      "            Genre Acc: 0.6585\n",
      "            Emotion Acc: 0.4177\n",
      "Validation loss decreased. Saving model...\n",
      "Epoch 2/50\n",
      "------------------------------------------------------------------------------------------------------------------------\n"
     ]
    },
    {
     "name": "stderr",
     "output_type": "stream",
     "text": [
      "100%|████████████████████████████████████████████████████████████████████████████████| 408/408 [00:55<00:00,  7.33it/s]\n"
     ]
    },
    {
     "name": "stdout",
     "output_type": "stream",
     "text": [
      "train Loss: 1.4721 Style Acc: 0.4319\n",
      "            Genre Acc: 0.6585\n",
      "            Emotion Acc: 0.4105\n"
     ]
    },
    {
     "name": "stderr",
     "output_type": "stream",
     "text": [
      "100%|██████████████████████████████████████████████████████████████████████████████████| 51/51 [00:05<00:00,  9.27it/s]\n"
     ]
    },
    {
     "name": "stdout",
     "output_type": "stream",
     "text": [
      "val Loss: 1.3872 Style Acc: 0.4698\n",
      "            Genre Acc: 0.6786\n",
      "            Emotion Acc: 0.4344\n",
      "Validation loss decreased. Saving model...\n",
      "Epoch 3/50\n",
      "------------------------------------------------------------------------------------------------------------------------\n"
     ]
    },
    {
     "name": "stderr",
     "output_type": "stream",
     "text": [
      "100%|████████████████████████████████████████████████████████████████████████████████| 408/408 [00:55<00:00,  7.31it/s]\n"
     ]
    },
    {
     "name": "stdout",
     "output_type": "stream",
     "text": [
      "train Loss: 1.3914 Style Acc: 0.4715\n",
      "            Genre Acc: 0.6781\n",
      "            Emotion Acc: 0.4182\n"
     ]
    },
    {
     "name": "stderr",
     "output_type": "stream",
     "text": [
      "100%|██████████████████████████████████████████████████████████████████████████████████| 51/51 [00:05<00:00,  9.29it/s]\n"
     ]
    },
    {
     "name": "stdout",
     "output_type": "stream",
     "text": [
      "val Loss: 1.3777 Style Acc: 0.4914\n",
      "            Genre Acc: 0.6677\n",
      "            Emotion Acc: 0.4314\n",
      "Validation loss decreased. Saving model...\n",
      "Epoch 4/50\n",
      "------------------------------------------------------------------------------------------------------------------------\n"
     ]
    },
    {
     "name": "stderr",
     "output_type": "stream",
     "text": [
      "100%|████████████████████████████████████████████████████████████████████████████████| 408/408 [00:55<00:00,  7.32it/s]\n"
     ]
    },
    {
     "name": "stdout",
     "output_type": "stream",
     "text": [
      "train Loss: 1.3587 Style Acc: 0.4916\n",
      "            Genre Acc: 0.6860\n",
      "            Emotion Acc: 0.4236\n"
     ]
    },
    {
     "name": "stderr",
     "output_type": "stream",
     "text": [
      "100%|██████████████████████████████████████████████████████████████████████████████████| 51/51 [00:05<00:00,  9.29it/s]\n"
     ]
    },
    {
     "name": "stdout",
     "output_type": "stream",
     "text": [
      "val Loss: 1.3371 Style Acc: 0.5043\n",
      "            Genre Acc: 0.7017\n",
      "            Emotion Acc: 0.4243\n",
      "Validation loss decreased. Saving model...\n",
      "Epoch 5/50\n",
      "------------------------------------------------------------------------------------------------------------------------\n"
     ]
    },
    {
     "name": "stderr",
     "output_type": "stream",
     "text": [
      "100%|████████████████████████████████████████████████████████████████████████████████| 408/408 [00:55<00:00,  7.32it/s]\n"
     ]
    },
    {
     "name": "stdout",
     "output_type": "stream",
     "text": [
      "train Loss: 1.3287 Style Acc: 0.5074\n",
      "            Genre Acc: 0.6931\n",
      "            Emotion Acc: 0.4265\n"
     ]
    },
    {
     "name": "stderr",
     "output_type": "stream",
     "text": [
      "100%|██████████████████████████████████████████████████████████████████████████████████| 51/51 [00:05<00:00,  9.29it/s]\n"
     ]
    },
    {
     "name": "stdout",
     "output_type": "stream",
     "text": [
      "val Loss: 1.3388 Style Acc: 0.5026\n",
      "            Genre Acc: 0.6910\n",
      "            Emotion Acc: 0.4334\n",
      "EarlyStopping counter: 1 out of 5\n",
      "Epoch 6/50\n",
      "------------------------------------------------------------------------------------------------------------------------\n"
     ]
    },
    {
     "name": "stderr",
     "output_type": "stream",
     "text": [
      "100%|████████████████████████████████████████████████████████████████████████████████| 408/408 [00:55<00:00,  7.34it/s]\n"
     ]
    },
    {
     "name": "stdout",
     "output_type": "stream",
     "text": [
      "train Loss: 1.3037 Style Acc: 0.5210\n",
      "            Genre Acc: 0.7015\n",
      "            Emotion Acc: 0.4304\n"
     ]
    },
    {
     "name": "stderr",
     "output_type": "stream",
     "text": [
      "100%|██████████████████████████████████████████████████████████████████████████████████| 51/51 [00:05<00:00,  9.36it/s]\n"
     ]
    },
    {
     "name": "stdout",
     "output_type": "stream",
     "text": [
      "val Loss: 1.2952 Style Acc: 0.5254\n",
      "            Genre Acc: 0.7024\n",
      "            Emotion Acc: 0.4295\n",
      "Validation loss decreased. Saving model...\n",
      "Epoch 7/50\n",
      "------------------------------------------------------------------------------------------------------------------------\n"
     ]
    },
    {
     "name": "stderr",
     "output_type": "stream",
     "text": [
      "100%|████████████████████████████████████████████████████████████████████████████████| 408/408 [00:55<00:00,  7.31it/s]\n"
     ]
    },
    {
     "name": "stdout",
     "output_type": "stream",
     "text": [
      "train Loss: 1.2837 Style Acc: 0.5317\n",
      "            Genre Acc: 0.7050\n",
      "            Emotion Acc: 0.4344\n"
     ]
    },
    {
     "name": "stderr",
     "output_type": "stream",
     "text": [
      "100%|██████████████████████████████████████████████████████████████████████████████████| 51/51 [00:05<00:00,  9.33it/s]\n"
     ]
    },
    {
     "name": "stdout",
     "output_type": "stream",
     "text": [
      "val Loss: 1.2748 Style Acc: 0.5369\n",
      "            Genre Acc: 0.7054\n",
      "            Emotion Acc: 0.4320\n",
      "Validation loss decreased. Saving model...\n",
      "Epoch 8/50\n",
      "------------------------------------------------------------------------------------------------------------------------\n"
     ]
    },
    {
     "name": "stderr",
     "output_type": "stream",
     "text": [
      "100%|████████████████████████████████████████████████████████████████████████████████| 408/408 [00:55<00:00,  7.31it/s]\n"
     ]
    },
    {
     "name": "stdout",
     "output_type": "stream",
     "text": [
      "train Loss: 1.2706 Style Acc: 0.5390\n",
      "            Genre Acc: 0.7077\n",
      "            Emotion Acc: 0.4351\n"
     ]
    },
    {
     "name": "stderr",
     "output_type": "stream",
     "text": [
      "100%|██████████████████████████████████████████████████████████████████████████████████| 51/51 [00:05<00:00,  9.33it/s]\n"
     ]
    },
    {
     "name": "stdout",
     "output_type": "stream",
     "text": [
      "val Loss: 1.2821 Style Acc: 0.5411\n",
      "            Genre Acc: 0.7120\n",
      "            Emotion Acc: 0.4320\n",
      "EarlyStopping counter: 1 out of 5\n",
      "Epoch 9/50\n",
      "------------------------------------------------------------------------------------------------------------------------\n"
     ]
    },
    {
     "name": "stderr",
     "output_type": "stream",
     "text": [
      "100%|████████████████████████████████████████████████████████████████████████████████| 408/408 [00:55<00:00,  7.33it/s]\n"
     ]
    },
    {
     "name": "stdout",
     "output_type": "stream",
     "text": [
      "train Loss: 1.2518 Style Acc: 0.5500\n",
      "            Genre Acc: 0.7111\n",
      "            Emotion Acc: 0.4368\n"
     ]
    },
    {
     "name": "stderr",
     "output_type": "stream",
     "text": [
      "100%|██████████████████████████████████████████████████████████████████████████████████| 51/51 [00:05<00:00,  9.33it/s]\n"
     ]
    },
    {
     "name": "stdout",
     "output_type": "stream",
     "text": [
      "val Loss: 1.2698 Style Acc: 0.5447\n",
      "            Genre Acc: 0.7050\n",
      "            Emotion Acc: 0.4387\n",
      "Validation loss decreased. Saving model...\n",
      "Epoch 10/50\n",
      "------------------------------------------------------------------------------------------------------------------------\n"
     ]
    },
    {
     "name": "stderr",
     "output_type": "stream",
     "text": [
      "100%|████████████████████████████████████████████████████████████████████████████████| 408/408 [00:55<00:00,  7.33it/s]\n"
     ]
    },
    {
     "name": "stdout",
     "output_type": "stream",
     "text": [
      "train Loss: 1.2361 Style Acc: 0.5583\n",
      "            Genre Acc: 0.7166\n",
      "            Emotion Acc: 0.4391\n"
     ]
    },
    {
     "name": "stderr",
     "output_type": "stream",
     "text": [
      "100%|██████████████████████████████████████████████████████████████████████████████████| 51/51 [00:05<00:00,  9.39it/s]\n"
     ]
    },
    {
     "name": "stdout",
     "output_type": "stream",
     "text": [
      "val Loss: 1.2364 Style Acc: 0.5565\n",
      "            Genre Acc: 0.7217\n",
      "            Emotion Acc: 0.4410\n",
      "Validation loss decreased. Saving model...\n",
      "Epoch 11/50\n",
      "------------------------------------------------------------------------------------------------------------------------\n"
     ]
    },
    {
     "name": "stderr",
     "output_type": "stream",
     "text": [
      "100%|████████████████████████████████████████████████████████████████████████████████| 408/408 [00:55<00:00,  7.31it/s]\n"
     ]
    },
    {
     "name": "stdout",
     "output_type": "stream",
     "text": [
      "train Loss: 1.2233 Style Acc: 0.5641\n",
      "            Genre Acc: 0.7191\n",
      "            Emotion Acc: 0.4419\n"
     ]
    },
    {
     "name": "stderr",
     "output_type": "stream",
     "text": [
      "100%|██████████████████████████████████████████████████████████████████████████████████| 51/51 [00:05<00:00,  9.32it/s]\n"
     ]
    },
    {
     "name": "stdout",
     "output_type": "stream",
     "text": [
      "val Loss: 1.2317 Style Acc: 0.5616\n",
      "            Genre Acc: 0.7209\n",
      "            Emotion Acc: 0.4430\n",
      "Validation loss decreased. Saving model...\n",
      "Epoch 12/50\n",
      "------------------------------------------------------------------------------------------------------------------------\n"
     ]
    },
    {
     "name": "stderr",
     "output_type": "stream",
     "text": [
      "100%|████████████████████████████████████████████████████████████████████████████████| 408/408 [00:55<00:00,  7.33it/s]\n"
     ]
    },
    {
     "name": "stdout",
     "output_type": "stream",
     "text": [
      "train Loss: 1.2117 Style Acc: 0.5690\n",
      "            Genre Acc: 0.7224\n",
      "            Emotion Acc: 0.4408\n"
     ]
    },
    {
     "name": "stderr",
     "output_type": "stream",
     "text": [
      "100%|██████████████████████████████████████████████████████████████████████████████████| 51/51 [00:05<00:00,  9.33it/s]\n"
     ]
    },
    {
     "name": "stdout",
     "output_type": "stream",
     "text": [
      "val Loss: 1.2328 Style Acc: 0.5656\n",
      "            Genre Acc: 0.7223\n",
      "            Emotion Acc: 0.4297\n",
      "EarlyStopping counter: 1 out of 5\n",
      "Epoch 13/50\n",
      "------------------------------------------------------------------------------------------------------------------------\n"
     ]
    },
    {
     "name": "stderr",
     "output_type": "stream",
     "text": [
      "100%|████████████████████████████████████████████████████████████████████████████████| 408/408 [00:55<00:00,  7.30it/s]\n"
     ]
    },
    {
     "name": "stdout",
     "output_type": "stream",
     "text": [
      "train Loss: 1.1997 Style Acc: 0.5778\n",
      "            Genre Acc: 0.7276\n",
      "            Emotion Acc: 0.4456\n"
     ]
    },
    {
     "name": "stderr",
     "output_type": "stream",
     "text": [
      "100%|██████████████████████████████████████████████████████████████████████████████████| 51/51 [00:05<00:00,  9.04it/s]\n"
     ]
    },
    {
     "name": "stdout",
     "output_type": "stream",
     "text": [
      "val Loss: 1.2236 Style Acc: 0.5692\n",
      "            Genre Acc: 0.7215\n",
      "            Emotion Acc: 0.4413\n",
      "Validation loss decreased. Saving model...\n",
      "Epoch 14/50\n",
      "------------------------------------------------------------------------------------------------------------------------\n"
     ]
    },
    {
     "name": "stderr",
     "output_type": "stream",
     "text": [
      "100%|████████████████████████████████████████████████████████████████████████████████| 408/408 [00:56<00:00,  7.22it/s]\n"
     ]
    },
    {
     "name": "stdout",
     "output_type": "stream",
     "text": [
      "train Loss: 1.1886 Style Acc: 0.5832\n",
      "            Genre Acc: 0.7296\n",
      "            Emotion Acc: 0.4479\n"
     ]
    },
    {
     "name": "stderr",
     "output_type": "stream",
     "text": [
      "100%|██████████████████████████████████████████████████████████████████████████████████| 51/51 [00:05<00:00,  9.30it/s]\n"
     ]
    },
    {
     "name": "stdout",
     "output_type": "stream",
     "text": [
      "val Loss: 1.2031 Style Acc: 0.5813\n",
      "            Genre Acc: 0.7235\n",
      "            Emotion Acc: 0.4447\n",
      "Validation loss decreased. Saving model...\n",
      "Epoch 15/50\n",
      "------------------------------------------------------------------------------------------------------------------------\n"
     ]
    },
    {
     "name": "stderr",
     "output_type": "stream",
     "text": [
      "100%|████████████████████████████████████████████████████████████████████████████████| 408/408 [00:56<00:00,  7.28it/s]\n"
     ]
    },
    {
     "name": "stdout",
     "output_type": "stream",
     "text": [
      "train Loss: 1.1765 Style Acc: 0.5914\n",
      "            Genre Acc: 0.7338\n",
      "            Emotion Acc: 0.4459\n"
     ]
    },
    {
     "name": "stderr",
     "output_type": "stream",
     "text": [
      "100%|██████████████████████████████████████████████████████████████████████████████████| 51/51 [00:05<00:00,  9.07it/s]\n"
     ]
    },
    {
     "name": "stdout",
     "output_type": "stream",
     "text": [
      "val Loss: 1.2168 Style Acc: 0.5738\n",
      "            Genre Acc: 0.7267\n",
      "            Emotion Acc: 0.4406\n",
      "EarlyStopping counter: 1 out of 5\n",
      "Epoch 16/50\n",
      "------------------------------------------------------------------------------------------------------------------------\n"
     ]
    },
    {
     "name": "stderr",
     "output_type": "stream",
     "text": [
      "100%|████████████████████████████████████████████████████████████████████████████████| 408/408 [00:56<00:00,  7.23it/s]\n"
     ]
    },
    {
     "name": "stdout",
     "output_type": "stream",
     "text": [
      "train Loss: 1.1649 Style Acc: 0.5967\n",
      "            Genre Acc: 0.7373\n",
      "            Emotion Acc: 0.4473\n"
     ]
    },
    {
     "name": "stderr",
     "output_type": "stream",
     "text": [
      "100%|██████████████████████████████████████████████████████████████████████████████████| 51/51 [00:05<00:00,  9.33it/s]\n"
     ]
    },
    {
     "name": "stdout",
     "output_type": "stream",
     "text": [
      "val Loss: 1.2048 Style Acc: 0.5823\n",
      "            Genre Acc: 0.7212\n",
      "            Emotion Acc: 0.4398\n",
      "Epoch 00016: reducing learning rate of group 0 to 5.0000e-05.\n",
      "EarlyStopping counter: 2 out of 5\n",
      "Epoch 17/50\n",
      "------------------------------------------------------------------------------------------------------------------------\n"
     ]
    },
    {
     "name": "stderr",
     "output_type": "stream",
     "text": [
      "100%|████████████████████████████████████████████████████████████████████████████████| 408/408 [00:56<00:00,  7.28it/s]\n"
     ]
    },
    {
     "name": "stdout",
     "output_type": "stream",
     "text": [
      "train Loss: 1.1290 Style Acc: 0.6146\n",
      "            Genre Acc: 0.7467\n",
      "            Emotion Acc: 0.4523\n"
     ]
    },
    {
     "name": "stderr",
     "output_type": "stream",
     "text": [
      "100%|██████████████████████████████████████████████████████████████████████████████████| 51/51 [00:05<00:00,  9.10it/s]\n"
     ]
    },
    {
     "name": "stdout",
     "output_type": "stream",
     "text": [
      "val Loss: 1.1882 Style Acc: 0.5918\n",
      "            Genre Acc: 0.7348\n",
      "            Emotion Acc: 0.4441\n",
      "Validation loss decreased. Saving model...\n",
      "Epoch 18/50\n",
      "------------------------------------------------------------------------------------------------------------------------\n"
     ]
    },
    {
     "name": "stderr",
     "output_type": "stream",
     "text": [
      "100%|████████████████████████████████████████████████████████████████████████████████| 408/408 [00:56<00:00,  7.26it/s]\n"
     ]
    },
    {
     "name": "stdout",
     "output_type": "stream",
     "text": [
      "train Loss: 1.1174 Style Acc: 0.6173\n",
      "            Genre Acc: 0.7510\n",
      "            Emotion Acc: 0.4556\n"
     ]
    },
    {
     "name": "stderr",
     "output_type": "stream",
     "text": [
      "100%|██████████████████████████████████████████████████████████████████████████████████| 51/51 [00:05<00:00,  9.28it/s]\n"
     ]
    },
    {
     "name": "stdout",
     "output_type": "stream",
     "text": [
      "val Loss: 1.1781 Style Acc: 0.5973\n",
      "            Genre Acc: 0.7312\n",
      "            Emotion Acc: 0.4452\n",
      "Validation loss decreased. Saving model...\n",
      "Epoch 19/50\n",
      "------------------------------------------------------------------------------------------------------------------------\n"
     ]
    },
    {
     "name": "stderr",
     "output_type": "stream",
     "text": [
      "100%|████████████████████████████████████████████████████████████████████████████████| 408/408 [00:56<00:00,  7.27it/s]\n"
     ]
    },
    {
     "name": "stdout",
     "output_type": "stream",
     "text": [
      "train Loss: 1.1095 Style Acc: 0.6243\n",
      "            Genre Acc: 0.7543\n",
      "            Emotion Acc: 0.4560\n"
     ]
    },
    {
     "name": "stderr",
     "output_type": "stream",
     "text": [
      "100%|██████████████████████████████████████████████████████████████████████████████████| 51/51 [00:05<00:00,  9.22it/s]\n"
     ]
    },
    {
     "name": "stdout",
     "output_type": "stream",
     "text": [
      "val Loss: 1.1812 Style Acc: 0.5965\n",
      "            Genre Acc: 0.7331\n",
      "            Emotion Acc: 0.4456\n",
      "EarlyStopping counter: 1 out of 5\n",
      "Epoch 20/50\n",
      "------------------------------------------------------------------------------------------------------------------------\n"
     ]
    },
    {
     "name": "stderr",
     "output_type": "stream",
     "text": [
      "100%|████████████████████████████████████████████████████████████████████████████████| 408/408 [00:56<00:00,  7.24it/s]\n"
     ]
    },
    {
     "name": "stdout",
     "output_type": "stream",
     "text": [
      "train Loss: 1.1020 Style Acc: 0.6283\n",
      "            Genre Acc: 0.7555\n",
      "            Emotion Acc: 0.4571\n"
     ]
    },
    {
     "name": "stderr",
     "output_type": "stream",
     "text": [
      "100%|██████████████████████████████████████████████████████████████████████████████████| 51/51 [00:05<00:00,  9.33it/s]\n"
     ]
    },
    {
     "name": "stdout",
     "output_type": "stream",
     "text": [
      "val Loss: 1.1725 Style Acc: 0.5991\n",
      "            Genre Acc: 0.7410\n",
      "            Emotion Acc: 0.4424\n",
      "Validation loss decreased. Saving model...\n",
      "Epoch 21/50\n",
      "------------------------------------------------------------------------------------------------------------------------\n"
     ]
    },
    {
     "name": "stderr",
     "output_type": "stream",
     "text": [
      "100%|████████████████████████████████████████████████████████████████████████████████| 408/408 [00:56<00:00,  7.22it/s]\n"
     ]
    },
    {
     "name": "stdout",
     "output_type": "stream",
     "text": [
      "train Loss: 1.0955 Style Acc: 0.6289\n",
      "            Genre Acc: 0.7573\n",
      "            Emotion Acc: 0.4590\n"
     ]
    },
    {
     "name": "stderr",
     "output_type": "stream",
     "text": [
      "100%|██████████████████████████████████████████████████████████████████████████████████| 51/51 [00:05<00:00,  9.13it/s]\n"
     ]
    },
    {
     "name": "stdout",
     "output_type": "stream",
     "text": [
      "val Loss: 1.1720 Style Acc: 0.5983\n",
      "            Genre Acc: 0.7373\n",
      "            Emotion Acc: 0.4400\n",
      "EarlyStopping counter: 1 out of 5\n",
      "Epoch 22/50\n",
      "------------------------------------------------------------------------------------------------------------------------\n"
     ]
    },
    {
     "name": "stderr",
     "output_type": "stream",
     "text": [
      "100%|████████████████████████████████████████████████████████████████████████████████| 408/408 [00:56<00:00,  7.26it/s]\n"
     ]
    },
    {
     "name": "stdout",
     "output_type": "stream",
     "text": [
      "train Loss: 1.0890 Style Acc: 0.6353\n",
      "            Genre Acc: 0.7590\n",
      "            Emotion Acc: 0.4598\n"
     ]
    },
    {
     "name": "stderr",
     "output_type": "stream",
     "text": [
      "100%|██████████████████████████████████████████████████████████████████████████████████| 51/51 [00:05<00:00,  9.38it/s]\n"
     ]
    },
    {
     "name": "stdout",
     "output_type": "stream",
     "text": [
      "val Loss: 1.1682 Style Acc: 0.6014\n",
      "            Genre Acc: 0.7396\n",
      "            Emotion Acc: 0.4422\n",
      "Validation loss decreased. Saving model...\n",
      "Epoch 23/50\n",
      "------------------------------------------------------------------------------------------------------------------------\n"
     ]
    },
    {
     "name": "stderr",
     "output_type": "stream",
     "text": [
      "100%|████████████████████████████████████████████████████████████████████████████████| 408/408 [00:56<00:00,  7.23it/s]\n"
     ]
    },
    {
     "name": "stdout",
     "output_type": "stream",
     "text": [
      "train Loss: 1.0829 Style Acc: 0.6370\n",
      "            Genre Acc: 0.7616\n",
      "            Emotion Acc: 0.4593\n"
     ]
    },
    {
     "name": "stderr",
     "output_type": "stream",
     "text": [
      "100%|██████████████████████████████████████████████████████████████████████████████████| 51/51 [00:05<00:00,  9.18it/s]\n"
     ]
    },
    {
     "name": "stdout",
     "output_type": "stream",
     "text": [
      "val Loss: 1.1702 Style Acc: 0.6025\n",
      "            Genre Acc: 0.7330\n",
      "            Emotion Acc: 0.4470\n",
      "EarlyStopping counter: 1 out of 5\n",
      "Epoch 24/50\n",
      "------------------------------------------------------------------------------------------------------------------------\n"
     ]
    },
    {
     "name": "stderr",
     "output_type": "stream",
     "text": [
      "100%|████████████████████████████████████████████████████████████████████████████████| 408/408 [00:56<00:00,  7.28it/s]\n"
     ]
    },
    {
     "name": "stdout",
     "output_type": "stream",
     "text": [
      "train Loss: 1.0752 Style Acc: 0.6398\n",
      "            Genre Acc: 0.7628\n",
      "            Emotion Acc: 0.4601\n"
     ]
    },
    {
     "name": "stderr",
     "output_type": "stream",
     "text": [
      "100%|██████████████████████████████████████████████████████████████████████████████████| 51/51 [00:05<00:00,  9.35it/s]\n"
     ]
    },
    {
     "name": "stdout",
     "output_type": "stream",
     "text": [
      "val Loss: 1.1712 Style Acc: 0.6006\n",
      "            Genre Acc: 0.7388\n",
      "            Emotion Acc: 0.4462\n",
      "Epoch 00024: reducing learning rate of group 0 to 2.5000e-05.\n",
      "EarlyStopping counter: 2 out of 5\n",
      "Epoch 25/50\n",
      "------------------------------------------------------------------------------------------------------------------------\n"
     ]
    },
    {
     "name": "stderr",
     "output_type": "stream",
     "text": [
      "100%|████████████████████████████████████████████████████████████████████████████████| 408/408 [00:56<00:00,  7.20it/s]\n"
     ]
    },
    {
     "name": "stdout",
     "output_type": "stream",
     "text": [
      "train Loss: 1.0539 Style Acc: 0.6515\n",
      "            Genre Acc: 0.7712\n",
      "            Emotion Acc: 0.4629\n"
     ]
    },
    {
     "name": "stderr",
     "output_type": "stream",
     "text": [
      "100%|██████████████████████████████████████████████████████████████████████████████████| 51/51 [00:05<00:00,  9.08it/s]\n"
     ]
    },
    {
     "name": "stdout",
     "output_type": "stream",
     "text": [
      "val Loss: 1.1553 Style Acc: 0.6063\n",
      "            Genre Acc: 0.7391\n",
      "            Emotion Acc: 0.4467\n",
      "Validation loss decreased. Saving model...\n",
      "Epoch 26/50\n",
      "------------------------------------------------------------------------------------------------------------------------\n"
     ]
    },
    {
     "name": "stderr",
     "output_type": "stream",
     "text": [
      "100%|████████████████████████████████████████████████████████████████████████████████| 408/408 [00:56<00:00,  7.27it/s]\n"
     ]
    },
    {
     "name": "stdout",
     "output_type": "stream",
     "text": [
      "train Loss: 1.0486 Style Acc: 0.6559\n",
      "            Genre Acc: 0.7710\n",
      "            Emotion Acc: 0.4643\n"
     ]
    },
    {
     "name": "stderr",
     "output_type": "stream",
     "text": [
      "100%|██████████████████████████████████████████████████████████████████████████████████| 51/51 [00:05<00:00,  9.27it/s]\n"
     ]
    },
    {
     "name": "stdout",
     "output_type": "stream",
     "text": [
      "val Loss: 1.1566 Style Acc: 0.6108\n",
      "            Genre Acc: 0.7437\n",
      "            Emotion Acc: 0.4430\n",
      "EarlyStopping counter: 1 out of 5\n",
      "Epoch 27/50\n",
      "------------------------------------------------------------------------------------------------------------------------\n"
     ]
    },
    {
     "name": "stderr",
     "output_type": "stream",
     "text": [
      "100%|████████████████████████████████████████████████████████████████████████████████| 408/408 [00:56<00:00,  7.23it/s]\n"
     ]
    },
    {
     "name": "stdout",
     "output_type": "stream",
     "text": [
      "train Loss: 1.0423 Style Acc: 0.6566\n",
      "            Genre Acc: 0.7730\n",
      "            Emotion Acc: 0.4650\n"
     ]
    },
    {
     "name": "stderr",
     "output_type": "stream",
     "text": [
      "100%|██████████████████████████████████████████████████████████████████████████████████| 51/51 [00:05<00:00,  9.18it/s]\n"
     ]
    },
    {
     "name": "stdout",
     "output_type": "stream",
     "text": [
      "val Loss: 1.1552 Style Acc: 0.6101\n",
      "            Genre Acc: 0.7391\n",
      "            Emotion Acc: 0.4449\n",
      "EarlyStopping counter: 2 out of 5\n",
      "Epoch 28/50\n",
      "------------------------------------------------------------------------------------------------------------------------\n"
     ]
    },
    {
     "name": "stderr",
     "output_type": "stream",
     "text": [
      "100%|████████████████████████████████████████████████████████████████████████████████| 408/408 [00:56<00:00,  7.28it/s]\n"
     ]
    },
    {
     "name": "stdout",
     "output_type": "stream",
     "text": [
      "train Loss: 1.0366 Style Acc: 0.6592\n",
      "            Genre Acc: 0.7748\n",
      "            Emotion Acc: 0.4642\n"
     ]
    },
    {
     "name": "stderr",
     "output_type": "stream",
     "text": [
      "100%|██████████████████████████████████████████████████████████████████████████████████| 51/51 [00:05<00:00,  9.28it/s]\n"
     ]
    },
    {
     "name": "stdout",
     "output_type": "stream",
     "text": [
      "val Loss: 1.1531 Style Acc: 0.6123\n",
      "            Genre Acc: 0.7417\n",
      "            Emotion Acc: 0.4455\n",
      "Validation loss decreased. Saving model...\n",
      "Epoch 29/50\n",
      "------------------------------------------------------------------------------------------------------------------------\n"
     ]
    },
    {
     "name": "stderr",
     "output_type": "stream",
     "text": [
      "100%|████████████████████████████████████████████████████████████████████████████████| 408/408 [00:56<00:00,  7.21it/s]\n"
     ]
    },
    {
     "name": "stdout",
     "output_type": "stream",
     "text": [
      "train Loss: 1.0326 Style Acc: 0.6627\n",
      "            Genre Acc: 0.7761\n",
      "            Emotion Acc: 0.4664\n"
     ]
    },
    {
     "name": "stderr",
     "output_type": "stream",
     "text": [
      "100%|██████████████████████████████████████████████████████████████████████████████████| 51/51 [00:05<00:00,  9.17it/s]\n"
     ]
    },
    {
     "name": "stdout",
     "output_type": "stream",
     "text": [
      "val Loss: 1.1557 Style Acc: 0.6095\n",
      "            Genre Acc: 0.7439\n",
      "            Emotion Acc: 0.4422\n",
      "EarlyStopping counter: 1 out of 5\n",
      "Epoch 30/50\n",
      "------------------------------------------------------------------------------------------------------------------------\n"
     ]
    },
    {
     "name": "stderr",
     "output_type": "stream",
     "text": [
      "100%|████████████████████████████████████████████████████████████████████████████████| 408/408 [00:56<00:00,  7.28it/s]\n"
     ]
    },
    {
     "name": "stdout",
     "output_type": "stream",
     "text": [
      "train Loss: 1.0281 Style Acc: 0.6631\n",
      "            Genre Acc: 0.7771\n",
      "            Emotion Acc: 0.4666\n"
     ]
    },
    {
     "name": "stderr",
     "output_type": "stream",
     "text": [
      "100%|██████████████████████████████████████████████████████████████████████████████████| 51/51 [00:05<00:00,  9.29it/s]\n"
     ]
    },
    {
     "name": "stdout",
     "output_type": "stream",
     "text": [
      "val Loss: 1.1504 Style Acc: 0.6169\n",
      "            Genre Acc: 0.7437\n",
      "            Emotion Acc: 0.4456\n",
      "Validation loss decreased. Saving model...\n",
      "Epoch 31/50\n",
      "------------------------------------------------------------------------------------------------------------------------\n"
     ]
    },
    {
     "name": "stderr",
     "output_type": "stream",
     "text": [
      "100%|████████████████████████████████████████████████████████████████████████████████| 408/408 [00:56<00:00,  7.19it/s]\n"
     ]
    },
    {
     "name": "stdout",
     "output_type": "stream",
     "text": [
      "train Loss: 1.0223 Style Acc: 0.6691\n",
      "            Genre Acc: 0.7781\n",
      "            Emotion Acc: 0.4688\n"
     ]
    },
    {
     "name": "stderr",
     "output_type": "stream",
     "text": [
      "100%|██████████████████████████████████████████████████████████████████████████████████| 51/51 [00:05<00:00,  9.20it/s]\n"
     ]
    },
    {
     "name": "stdout",
     "output_type": "stream",
     "text": [
      "val Loss: 1.1520 Style Acc: 0.6167\n",
      "            Genre Acc: 0.7411\n",
      "            Emotion Acc: 0.4410\n",
      "EarlyStopping counter: 1 out of 5\n",
      "Epoch 32/50\n",
      "------------------------------------------------------------------------------------------------------------------------\n"
     ]
    },
    {
     "name": "stderr",
     "output_type": "stream",
     "text": [
      "100%|████████████████████████████████████████████████████████████████████████████████| 408/408 [00:55<00:00,  7.32it/s]\n"
     ]
    },
    {
     "name": "stdout",
     "output_type": "stream",
     "text": [
      "train Loss: 1.0193 Style Acc: 0.6698\n",
      "            Genre Acc: 0.7803\n",
      "            Emotion Acc: 0.4692\n"
     ]
    },
    {
     "name": "stderr",
     "output_type": "stream",
     "text": [
      "100%|██████████████████████████████████████████████████████████████████████████████████| 51/51 [00:05<00:00,  9.28it/s]\n"
     ]
    },
    {
     "name": "stdout",
     "output_type": "stream",
     "text": [
      "val Loss: 1.1548 Style Acc: 0.6160\n",
      "            Genre Acc: 0.7425\n",
      "            Emotion Acc: 0.4453\n",
      "Epoch 00032: reducing learning rate of group 0 to 1.2500e-05.\n",
      "EarlyStopping counter: 2 out of 5\n",
      "Epoch 33/50\n",
      "------------------------------------------------------------------------------------------------------------------------\n"
     ]
    },
    {
     "name": "stderr",
     "output_type": "stream",
     "text": [
      "100%|████████████████████████████████████████████████████████████████████████████████| 408/408 [00:57<00:00,  7.14it/s]\n"
     ]
    },
    {
     "name": "stdout",
     "output_type": "stream",
     "text": [
      "train Loss: 1.0087 Style Acc: 0.6747\n",
      "            Genre Acc: 0.7824\n",
      "            Emotion Acc: 0.4711\n"
     ]
    },
    {
     "name": "stderr",
     "output_type": "stream",
     "text": [
      "100%|██████████████████████████████████████████████████████████████████████████████████| 51/51 [00:05<00:00,  9.10it/s]\n"
     ]
    },
    {
     "name": "stdout",
     "output_type": "stream",
     "text": [
      "val Loss: 1.1492 Style Acc: 0.6157\n",
      "            Genre Acc: 0.7416\n",
      "            Emotion Acc: 0.4435\n",
      "Validation loss decreased. Saving model...\n",
      "Epoch 34/50\n",
      "------------------------------------------------------------------------------------------------------------------------\n"
     ]
    },
    {
     "name": "stderr",
     "output_type": "stream",
     "text": [
      "100%|████████████████████████████████████████████████████████████████████████████████| 408/408 [00:55<00:00,  7.31it/s]\n"
     ]
    },
    {
     "name": "stdout",
     "output_type": "stream",
     "text": [
      "train Loss: 1.0022 Style Acc: 0.6782\n",
      "            Genre Acc: 0.7855\n",
      "            Emotion Acc: 0.4706\n"
     ]
    },
    {
     "name": "stderr",
     "output_type": "stream",
     "text": [
      "100%|██████████████████████████████████████████████████████████████████████████████████| 51/51 [00:05<00:00,  9.30it/s]\n"
     ]
    },
    {
     "name": "stdout",
     "output_type": "stream",
     "text": [
      "val Loss: 1.1489 Style Acc: 0.6170\n",
      "            Genre Acc: 0.7417\n",
      "            Emotion Acc: 0.4462\n",
      "EarlyStopping counter: 1 out of 5\n",
      "Epoch 35/50\n",
      "------------------------------------------------------------------------------------------------------------------------\n"
     ]
    },
    {
     "name": "stderr",
     "output_type": "stream",
     "text": [
      "100%|████████████████████████████████████████████████████████████████████████████████| 408/408 [00:56<00:00,  7.20it/s]\n"
     ]
    },
    {
     "name": "stdout",
     "output_type": "stream",
     "text": [
      "train Loss: 1.0020 Style Acc: 0.6823\n",
      "            Genre Acc: 0.7847\n",
      "            Emotion Acc: 0.4696\n"
     ]
    },
    {
     "name": "stderr",
     "output_type": "stream",
     "text": [
      "100%|██████████████████████████████████████████████████████████████████████████████████| 51/51 [00:05<00:00,  9.21it/s]\n"
     ]
    },
    {
     "name": "stdout",
     "output_type": "stream",
     "text": [
      "val Loss: 1.1491 Style Acc: 0.6153\n",
      "            Genre Acc: 0.7439\n",
      "            Emotion Acc: 0.4429\n",
      "EarlyStopping counter: 2 out of 5\n",
      "Epoch 36/50\n",
      "------------------------------------------------------------------------------------------------------------------------\n"
     ]
    },
    {
     "name": "stderr",
     "output_type": "stream",
     "text": [
      "100%|████████████████████████████████████████████████████████████████████████████████| 408/408 [00:55<00:00,  7.29it/s]\n"
     ]
    },
    {
     "name": "stdout",
     "output_type": "stream",
     "text": [
      "train Loss: 0.9990 Style Acc: 0.6798\n",
      "            Genre Acc: 0.7871\n",
      "            Emotion Acc: 0.4708\n"
     ]
    },
    {
     "name": "stderr",
     "output_type": "stream",
     "text": [
      "100%|██████████████████████████████████████████████████████████████████████████████████| 51/51 [00:05<00:00,  9.17it/s]\n"
     ]
    },
    {
     "name": "stdout",
     "output_type": "stream",
     "text": [
      "val Loss: 1.1472 Style Acc: 0.6195\n",
      "            Genre Acc: 0.7448\n",
      "            Emotion Acc: 0.4438\n",
      "Validation loss decreased. Saving model...\n",
      "Epoch 37/50\n",
      "------------------------------------------------------------------------------------------------------------------------\n"
     ]
    },
    {
     "name": "stderr",
     "output_type": "stream",
     "text": [
      "100%|████████████████████████████████████████████████████████████████████████████████| 408/408 [00:56<00:00,  7.20it/s]\n"
     ]
    },
    {
     "name": "stdout",
     "output_type": "stream",
     "text": [
      "train Loss: 0.9959 Style Acc: 0.6827\n",
      "            Genre Acc: 0.7864\n",
      "            Emotion Acc: 0.4712\n"
     ]
    },
    {
     "name": "stderr",
     "output_type": "stream",
     "text": [
      "100%|██████████████████████████████████████████████████████████████████████████████████| 51/51 [00:05<00:00,  9.28it/s]\n"
     ]
    },
    {
     "name": "stdout",
     "output_type": "stream",
     "text": [
      "val Loss: 1.1471 Style Acc: 0.6195\n",
      "            Genre Acc: 0.7479\n",
      "            Emotion Acc: 0.4458\n",
      "EarlyStopping counter: 1 out of 5\n",
      "Epoch 38/50\n",
      "------------------------------------------------------------------------------------------------------------------------\n"
     ]
    },
    {
     "name": "stderr",
     "output_type": "stream",
     "text": [
      "100%|████████████████████████████████████████████████████████████████████████████████| 408/408 [00:55<00:00,  7.31it/s]\n"
     ]
    },
    {
     "name": "stdout",
     "output_type": "stream",
     "text": [
      "train Loss: 0.9938 Style Acc: 0.6822\n",
      "            Genre Acc: 0.7883\n",
      "            Emotion Acc: 0.4723\n"
     ]
    },
    {
     "name": "stderr",
     "output_type": "stream",
     "text": [
      "100%|██████████████████████████████████████████████████████████████████████████████████| 51/51 [00:05<00:00,  9.19it/s]\n"
     ]
    },
    {
     "name": "stdout",
     "output_type": "stream",
     "text": [
      "val Loss: 1.1506 Style Acc: 0.6186\n",
      "            Genre Acc: 0.7436\n",
      "            Emotion Acc: 0.4424\n",
      "EarlyStopping counter: 2 out of 5\n",
      "Epoch 39/50\n",
      "------------------------------------------------------------------------------------------------------------------------\n"
     ]
    },
    {
     "name": "stderr",
     "output_type": "stream",
     "text": [
      "100%|████████████████████████████████████████████████████████████████████████████████| 408/408 [00:56<00:00,  7.17it/s]\n"
     ]
    },
    {
     "name": "stdout",
     "output_type": "stream",
     "text": [
      "train Loss: 0.9911 Style Acc: 0.6845\n",
      "            Genre Acc: 0.7887\n",
      "            Emotion Acc: 0.4731\n"
     ]
    },
    {
     "name": "stderr",
     "output_type": "stream",
     "text": [
      "100%|██████████████████████████████████████████████████████████████████████████████████| 51/51 [00:05<00:00,  9.29it/s]\n"
     ]
    },
    {
     "name": "stdout",
     "output_type": "stream",
     "text": [
      "val Loss: 1.1478 Style Acc: 0.6183\n",
      "            Genre Acc: 0.7457\n",
      "            Emotion Acc: 0.4445\n",
      "Epoch 00039: reducing learning rate of group 0 to 6.2500e-06.\n",
      "EarlyStopping counter: 3 out of 5\n",
      "Epoch 40/50\n",
      "------------------------------------------------------------------------------------------------------------------------\n"
     ]
    },
    {
     "name": "stderr",
     "output_type": "stream",
     "text": [
      "100%|████████████████████████████████████████████████████████████████████████████████| 408/408 [00:55<00:00,  7.30it/s]\n"
     ]
    },
    {
     "name": "stdout",
     "output_type": "stream",
     "text": [
      "train Loss: 0.9832 Style Acc: 0.6888\n",
      "            Genre Acc: 0.7922\n",
      "            Emotion Acc: 0.4753\n"
     ]
    },
    {
     "name": "stderr",
     "output_type": "stream",
     "text": [
      "100%|██████████████████████████████████████████████████████████████████████████████████| 51/51 [00:05<00:00,  9.18it/s]\n"
     ]
    },
    {
     "name": "stdout",
     "output_type": "stream",
     "text": [
      "val Loss: 1.1461 Style Acc: 0.6212\n",
      "            Genre Acc: 0.7448\n",
      "            Emotion Acc: 0.4442\n",
      "Validation loss decreased. Saving model...\n",
      "Epoch 41/50\n",
      "------------------------------------------------------------------------------------------------------------------------\n"
     ]
    },
    {
     "name": "stderr",
     "output_type": "stream",
     "text": [
      "100%|████████████████████████████████████████████████████████████████████████████████| 408/408 [00:56<00:00,  7.17it/s]\n"
     ]
    },
    {
     "name": "stdout",
     "output_type": "stream",
     "text": [
      "train Loss: 0.9830 Style Acc: 0.6890\n",
      "            Genre Acc: 0.7924\n",
      "            Emotion Acc: 0.4735\n"
     ]
    },
    {
     "name": "stderr",
     "output_type": "stream",
     "text": [
      "100%|██████████████████████████████████████████████████████████████████████████████████| 51/51 [00:05<00:00,  9.28it/s]\n"
     ]
    },
    {
     "name": "stdout",
     "output_type": "stream",
     "text": [
      "val Loss: 1.1454 Style Acc: 0.6204\n",
      "            Genre Acc: 0.7453\n",
      "            Emotion Acc: 0.4438\n",
      "EarlyStopping counter: 1 out of 5\n",
      "Epoch 42/50\n",
      "------------------------------------------------------------------------------------------------------------------------\n"
     ]
    },
    {
     "name": "stderr",
     "output_type": "stream",
     "text": [
      "100%|████████████████████████████████████████████████████████████████████████████████| 408/408 [00:56<00:00,  7.27it/s]\n"
     ]
    },
    {
     "name": "stdout",
     "output_type": "stream",
     "text": [
      "train Loss: 0.9815 Style Acc: 0.6901\n",
      "            Genre Acc: 0.7925\n",
      "            Emotion Acc: 0.4751\n"
     ]
    },
    {
     "name": "stderr",
     "output_type": "stream",
     "text": [
      "100%|██████████████████████████████████████████████████████████████████████████████████| 51/51 [00:05<00:00,  9.09it/s]\n"
     ]
    },
    {
     "name": "stdout",
     "output_type": "stream",
     "text": [
      "val Loss: 1.1450 Style Acc: 0.6235\n",
      "            Genre Acc: 0.7477\n",
      "            Emotion Acc: 0.4453\n",
      "Validation loss decreased. Saving model...\n",
      "Epoch 43/50\n",
      "------------------------------------------------------------------------------------------------------------------------\n"
     ]
    },
    {
     "name": "stderr",
     "output_type": "stream",
     "text": [
      "100%|████████████████████████████████████████████████████████████████████████████████| 408/408 [00:56<00:00,  7.21it/s]\n"
     ]
    },
    {
     "name": "stdout",
     "output_type": "stream",
     "text": [
      "train Loss: 0.9796 Style Acc: 0.6905\n",
      "            Genre Acc: 0.7934\n",
      "            Emotion Acc: 0.4737\n"
     ]
    },
    {
     "name": "stderr",
     "output_type": "stream",
     "text": [
      "100%|██████████████████████████████████████████████████████████████████████████████████| 51/51 [00:05<00:00,  9.28it/s]\n"
     ]
    },
    {
     "name": "stdout",
     "output_type": "stream",
     "text": [
      "val Loss: 1.1448 Style Acc: 0.6221\n",
      "            Genre Acc: 0.7465\n",
      "            Emotion Acc: 0.4458\n",
      "EarlyStopping counter: 1 out of 5\n",
      "Epoch 44/50\n",
      "------------------------------------------------------------------------------------------------------------------------\n"
     ]
    },
    {
     "name": "stderr",
     "output_type": "stream",
     "text": [
      "100%|████████████████████████████████████████████████████████████████████████████████| 408/408 [00:55<00:00,  7.30it/s]\n"
     ]
    },
    {
     "name": "stdout",
     "output_type": "stream",
     "text": [
      "train Loss: 0.9761 Style Acc: 0.6924\n",
      "            Genre Acc: 0.7935\n",
      "            Emotion Acc: 0.4761\n"
     ]
    },
    {
     "name": "stderr",
     "output_type": "stream",
     "text": [
      "100%|██████████████████████████████████████████████████████████████████████████████████| 51/51 [00:05<00:00,  9.22it/s]\n"
     ]
    },
    {
     "name": "stdout",
     "output_type": "stream",
     "text": [
      "val Loss: 1.1450 Style Acc: 0.6218\n",
      "            Genre Acc: 0.7439\n",
      "            Emotion Acc: 0.4444\n",
      "EarlyStopping counter: 2 out of 5\n",
      "Epoch 45/50\n",
      "------------------------------------------------------------------------------------------------------------------------\n"
     ]
    },
    {
     "name": "stderr",
     "output_type": "stream",
     "text": [
      "100%|████████████████████████████████████████████████████████████████████████████████| 408/408 [00:56<00:00,  7.22it/s]\n"
     ]
    },
    {
     "name": "stdout",
     "output_type": "stream",
     "text": [
      "train Loss: 0.9769 Style Acc: 0.6927\n",
      "            Genre Acc: 0.7947\n",
      "            Emotion Acc: 0.4741\n"
     ]
    },
    {
     "name": "stderr",
     "output_type": "stream",
     "text": [
      "100%|██████████████████████████████████████████████████████████████████████████████████| 51/51 [00:05<00:00,  9.39it/s]\n"
     ]
    },
    {
     "name": "stdout",
     "output_type": "stream",
     "text": [
      "val Loss: 1.1431 Style Acc: 0.6219\n",
      "            Genre Acc: 0.7446\n",
      "            Emotion Acc: 0.4459\n",
      "Validation loss decreased. Saving model...\n",
      "Epoch 46/50\n",
      "------------------------------------------------------------------------------------------------------------------------\n"
     ]
    },
    {
     "name": "stderr",
     "output_type": "stream",
     "text": [
      "100%|████████████████████████████████████████████████████████████████████████████████| 408/408 [00:56<00:00,  7.25it/s]\n"
     ]
    },
    {
     "name": "stdout",
     "output_type": "stream",
     "text": [
      "train Loss: 0.9770 Style Acc: 0.6930\n",
      "            Genre Acc: 0.7959\n",
      "            Emotion Acc: 0.4742\n"
     ]
    },
    {
     "name": "stderr",
     "output_type": "stream",
     "text": [
      "100%|██████████████████████████████████████████████████████████████████████████████████| 51/51 [00:05<00:00,  9.10it/s]\n"
     ]
    },
    {
     "name": "stdout",
     "output_type": "stream",
     "text": [
      "val Loss: 1.1450 Style Acc: 0.6213\n",
      "            Genre Acc: 0.7431\n",
      "            Emotion Acc: 0.4447\n",
      "EarlyStopping counter: 1 out of 5\n",
      "Epoch 47/50\n",
      "------------------------------------------------------------------------------------------------------------------------\n"
     ]
    },
    {
     "name": "stderr",
     "output_type": "stream",
     "text": [
      "100%|████████████████████████████████████████████████████████████████████████████████| 408/408 [00:56<00:00,  7.21it/s]\n"
     ]
    },
    {
     "name": "stdout",
     "output_type": "stream",
     "text": [
      "train Loss: 0.9752 Style Acc: 0.6931\n",
      "            Genre Acc: 0.7941\n",
      "            Emotion Acc: 0.4754\n"
     ]
    },
    {
     "name": "stderr",
     "output_type": "stream",
     "text": [
      "100%|██████████████████████████████████████████████████████████████████████████████████| 51/51 [00:05<00:00,  9.28it/s]\n"
     ]
    },
    {
     "name": "stdout",
     "output_type": "stream",
     "text": [
      "val Loss: 1.1440 Style Acc: 0.6224\n",
      "            Genre Acc: 0.7456\n",
      "            Emotion Acc: 0.4427\n",
      "Epoch 00047: reducing learning rate of group 0 to 3.1250e-06.\n",
      "EarlyStopping counter: 2 out of 5\n",
      "Epoch 48/50\n",
      "------------------------------------------------------------------------------------------------------------------------\n"
     ]
    },
    {
     "name": "stderr",
     "output_type": "stream",
     "text": [
      "100%|████████████████████████████████████████████████████████████████████████████████| 408/408 [00:56<00:00,  7.26it/s]\n"
     ]
    },
    {
     "name": "stdout",
     "output_type": "stream",
     "text": [
      "train Loss: 0.9712 Style Acc: 0.6948\n",
      "            Genre Acc: 0.7952\n",
      "            Emotion Acc: 0.4755\n"
     ]
    },
    {
     "name": "stderr",
     "output_type": "stream",
     "text": [
      "100%|██████████████████████████████████████████████████████████████████████████████████| 51/51 [00:05<00:00,  9.10it/s]\n"
     ]
    },
    {
     "name": "stdout",
     "output_type": "stream",
     "text": [
      "val Loss: 1.1437 Style Acc: 0.6210\n",
      "            Genre Acc: 0.7440\n",
      "            Emotion Acc: 0.4439\n",
      "EarlyStopping counter: 3 out of 5\n",
      "Epoch 49/50\n",
      "------------------------------------------------------------------------------------------------------------------------\n"
     ]
    },
    {
     "name": "stderr",
     "output_type": "stream",
     "text": [
      "100%|████████████████████████████████████████████████████████████████████████████████| 408/408 [00:56<00:00,  7.21it/s]\n"
     ]
    },
    {
     "name": "stdout",
     "output_type": "stream",
     "text": [
      "train Loss: 0.9692 Style Acc: 0.6959\n",
      "            Genre Acc: 0.7944\n",
      "            Emotion Acc: 0.4762\n"
     ]
    },
    {
     "name": "stderr",
     "output_type": "stream",
     "text": [
      "100%|██████████████████████████████████████████████████████████████████████████████████| 51/51 [00:05<00:00,  9.24it/s]\n"
     ]
    },
    {
     "name": "stdout",
     "output_type": "stream",
     "text": [
      "val Loss: 1.1434 Style Acc: 0.6242\n",
      "            Genre Acc: 0.7459\n",
      "            Emotion Acc: 0.4452\n",
      "Epoch 00049: reducing learning rate of group 0 to 1.5625e-06.\n",
      "EarlyStopping counter: 4 out of 5\n",
      "Epoch 50/50\n",
      "------------------------------------------------------------------------------------------------------------------------\n"
     ]
    },
    {
     "name": "stderr",
     "output_type": "stream",
     "text": [
      "100%|████████████████████████████████████████████████████████████████████████████████| 408/408 [00:56<00:00,  7.24it/s]\n"
     ]
    },
    {
     "name": "stdout",
     "output_type": "stream",
     "text": [
      "train Loss: 0.9699 Style Acc: 0.6958\n",
      "            Genre Acc: 0.7954\n",
      "            Emotion Acc: 0.4776\n"
     ]
    },
    {
     "name": "stderr",
     "output_type": "stream",
     "text": [
      "100%|██████████████████████████████████████████████████████████████████████████████████| 51/51 [00:05<00:00,  9.21it/s]"
     ]
    },
    {
     "name": "stdout",
     "output_type": "stream",
     "text": [
      "val Loss: 1.1435 Style Acc: 0.6224\n",
      "            Genre Acc: 0.7442\n",
      "            Emotion Acc: 0.4439\n",
      "EarlyStopping counter: 5 out of 5\n",
      "Best epoch: 0045\n",
      "Best loss: 1.1431\n"
     ]
    },
    {
     "name": "stderr",
     "output_type": "stream",
     "text": [
      "\n"
     ]
    }
   ],
   "source": [
    "batch_size = 128\n",
    "num_epochs = 50\n",
    "criterions = list(nn.CrossEntropyLoss() for _ in range(3))\n",
    "optimizer = optim.Adam(model.parameters(), lr=1e-4)\n",
    "early_stop= EarlyStopping(patience = 5, min_delta = 1e-3, checkpoint_path = 'best_multitask_model.pt')\n",
    "train_loader = DataLoader(train_dataset, batch_size = batch_size, shuffle = True, drop_last = False)\n",
    "val_loader = DataLoader(val_dataset, batch_size = batch_size, shuffle = True, drop_last = False)\n",
    "scheduler = lr_scheduler.ReduceLROnPlateau(optimizer, 'min', min_lr = 1e-7, verbose = True, factor = .5, patience = 1,\n",
    "                                               threshold = 1e-4)\n",
    "fine_tune(model, train, train_loader, val_loader, criterions, optimizer, early_stop, scheduler, num_epochs)"
   ]
  },
  {
   "cell_type": "code",
   "execution_count": 24,
   "id": "96b423d9",
   "metadata": {},
   "outputs": [
    {
     "name": "stderr",
     "output_type": "stream",
     "text": [
      "100%|██████████████████████████████████████████████████████████████████████████████████| 51/51 [00:05<00:00,  9.82it/s]\n"
     ]
    },
    {
     "data": {
      "image/png": "[encoded data removed]",
      "text/plain": [
       "<Figure size 864x864 with 2 Axes>"
      ]
     },
     "metadata": {},
     "output_type": "display_data"
    },
    {
     "data": {
      "image/png": "[encoded data removed]",
      "text/plain": [
       "<Figure size 864x864 with 2 Axes>"
      ]
     },
     "metadata": {},
     "output_type": "display_data"
    },
    {
     "data": {
      "image/png": "[encoded data removed]",
      "text/plain": [
       "<Figure size 864x864 with 2 Axes>"
      ]
     },
     "metadata": {},
     "output_type": "display_data"
    }
   ],
   "source": [
    "model = torch.load('best_multitask_model.pt').to('cuda:0')\n",
    "map_hop={'style':5,\n",
    "        'genre':3,\n",
    "        'emotion':2}\n",
    "results_df = pd.DataFrame(columns = ['Top1', 'Top2', 'Macro-F1'], index = ('style', 'genre', 'emotion'))\n",
    "with torch.no_grad():\n",
    "    pred, lab = test_func(model, test_loader, train)\n",
    "for task in ('style', 'genre', 'emotion'):\n",
    "    results_df['Top1'].loc[task] = compute_topk(lab[task], pred[task], k=1)\n",
    "    results_df['Top2'].loc[task] = compute_topk(lab[task], pred[task], k=2)\n",
    "    pred_lab = torch.max(torch.Tensor(pred[task]), 1)[1]\n",
    "    results_df['Macro-F1'].loc[task] = f1_score(lab[task], pred_lab, average = 'macro')\n",
    "    labels = pd.read_csv(f'{root}/mapping/{task}_entidx2name.csv', names = ['idx','name'])['name'].tolist()\n",
    "    if task == 'style':\n",
    "        labels = labels[1:-1]\n",
    "    plot_confusion_matrix(lab[task], pred_lab, hop = map_hop[task], labels = labels)"
   ]
  },
  {
   "cell_type": "code",
   "execution_count": 25,
   "id": "9887a61a",
   "metadata": {},
   "outputs": [
    {
     "data": {
      "text/html": [
       "<div>\n",
       "<style scoped>\n",
       "    .dataframe tbody tr th:only-of-type {\n",
       "        vertical-align: middle;\n",
       "    }\n",
       "\n",
       "    .dataframe tbody tr th {\n",
       "        vertical-align: top;\n",
       "    }\n",
       "\n",
       "    .dataframe thead th {\n",
       "        text-align: right;\n",
       "    }\n",
       "</style>\n",
       "<table border=\"1\" class=\"dataframe\">\n",
       "  <thead>\n",
       "    <tr style=\"text-align: right;\">\n",
       "      <th></th>\n",
       "      <th>Top1</th>\n",
       "      <th>Top2</th>\n",
       "      <th>Macro-F1</th>\n",
       "    </tr>\n",
       "  </thead>\n",
       "  <tbody>\n",
       "    <tr>\n",
       "      <th>style</th>\n",
       "      <td>0.623448</td>\n",
       "      <td>0.806743</td>\n",
       "      <td>0.465176</td>\n",
       "    </tr>\n",
       "    <tr>\n",
       "      <th>genre</th>\n",
       "      <td>0.751264</td>\n",
       "      <td>0.889349</td>\n",
       "      <td>0.631622</td>\n",
       "    </tr>\n",
       "    <tr>\n",
       "      <th>emotion</th>\n",
       "      <td>0.453027</td>\n",
       "      <td>0.639847</td>\n",
       "      <td>0.272616</td>\n",
       "    </tr>\n",
       "  </tbody>\n",
       "</table>\n",
       "</div>"
      ],
      "text/plain": [
       "             Top1      Top2  Macro-F1\n",
       "style    0.623448  0.806743  0.465176\n",
       "genre    0.751264  0.889349  0.631622\n",
       "emotion  0.453027  0.639847  0.272616"
      ]
     },
     "execution_count": 25,
     "metadata": {},
     "output_type": "execute_result"
    }
   ],
   "source": [
    "results_df"
   ]
  },
  {
   "cell_type": "code",
   "execution_count": 26,
   "id": "2642943c",
   "metadata": {},
   "outputs": [],
   "source": [
    "results_df.to_csv('resuls_multi_task_scratch.csv')"
   ]
  },
  {
   "cell_type": "code",
   "execution_count": null,
   "id": "3fe978c2",
   "metadata": {},
   "outputs": [],
   "source": []
  },
  {
   "cell_type": "code",
   "execution_count": 27,
   "id": "4063b724",
   "metadata": {
    "scrolled": false
   },
   "outputs": [
    {
     "name": "stderr",
     "output_type": "stream",
     "text": [
      "100%|██████████████████████████████████████████████████████████████████████████████████| 51/51 [00:06<00:00,  7.68it/s]\n"
     ]
    }
   ],
   "source": [
    "model = torch.load('best_multitask_model.pt').to('cuda:0')\n",
    "map_hop={'style':5,\n",
    "        'genre':3,\n",
    "        'emotion':2}\n",
    "results_df = pd.DataFrame(columns = ['Top1', 'Top2', 'Macro-F1'], index = ('style', 'genre', 'emotion'))\n",
    "with torch.no_grad():\n",
    "    pred, lab = test_func(model, test_loader, train, update_graph=True)\n",
    "for task in ('style', 'genre', 'emotion'):\n",
    "    results_df['Top1'].loc[task] = compute_topk(lab[task], pred[task], k=1)\n",
    "    results_df['Top2'].loc[task] = compute_topk(lab[task], pred[task], k=2)\n",
    "    pred_lab = torch.max(torch.Tensor(pred[task]), 1)[1]\n",
    "    results_df['Macro-F1'].loc[task] = f1_score(lab[task], pred_lab, average = 'macro')\n",
    "    labels = pd.read_csv(f'{root}/mapping/{task}_entidx2name.csv', names = ['idx','name'])['name'].tolist()\n",
    "    if task == 'style':\n",
    "        labels = labels[1:-1]\n",
    "    #plot_confusion_matrix(lab[task], pred_lab, hop = map_hop[task], labels = labels)"
   ]
  },
  {
   "cell_type": "code",
   "execution_count": 28,
   "id": "85c56ae5",
   "metadata": {},
   "outputs": [
    {
     "data": {
      "text/html": [
       "<div>\n",
       "<style scoped>\n",
       "    .dataframe tbody tr th:only-of-type {\n",
       "        vertical-align: middle;\n",
       "    }\n",
       "\n",
       "    .dataframe tbody tr th {\n",
       "        vertical-align: top;\n",
       "    }\n",
       "\n",
       "    .dataframe thead th {\n",
       "        text-align: right;\n",
       "    }\n",
       "</style>\n",
       "<table border=\"1\" class=\"dataframe\">\n",
       "  <thead>\n",
       "    <tr style=\"text-align: right;\">\n",
       "      <th></th>\n",
       "      <th>Top1</th>\n",
       "      <th>Top2</th>\n",
       "      <th>Macro-F1</th>\n",
       "    </tr>\n",
       "  </thead>\n",
       "  <tbody>\n",
       "    <tr>\n",
       "      <th>style</th>\n",
       "      <td>0.623602</td>\n",
       "      <td>0.806743</td>\n",
       "      <td>0.465356</td>\n",
       "    </tr>\n",
       "    <tr>\n",
       "      <th>genre</th>\n",
       "      <td>0.751418</td>\n",
       "      <td>0.889349</td>\n",
       "      <td>0.631725</td>\n",
       "    </tr>\n",
       "    <tr>\n",
       "      <th>emotion</th>\n",
       "      <td>0.453027</td>\n",
       "      <td>0.639847</td>\n",
       "      <td>0.272616</td>\n",
       "    </tr>\n",
       "  </tbody>\n",
       "</table>\n",
       "</div>"
      ],
      "text/plain": [
       "             Top1      Top2  Macro-F1\n",
       "style    0.623602  0.806743  0.465356\n",
       "genre    0.751418  0.889349  0.631725\n",
       "emotion  0.453027  0.639847  0.272616"
      ]
     },
     "execution_count": 28,
     "metadata": {},
     "output_type": "execute_result"
    }
   ],
   "source": [
    "results_df"
   ]
  },
  {
   "cell_type": "code",
   "execution_count": 29,
   "id": "2f4de240",
   "metadata": {},
   "outputs": [],
   "source": [
    "results_df.to_csv('resuls_multi_task_scratch_update.csv')"
   ]
  },
  {
   "cell_type": "code",
   "execution_count": null,
   "id": "7f01650d",
   "metadata": {},
   "outputs": [],
   "source": []
  }
 ],
 "metadata": {
  "kernelspec": {
   "display_name": "Python 3 (ipykernel)",
   "language": "python",
   "name": "python3"
  },
  "language_info": {
   "codemirror_mode": {
    "name": "ipython",
    "version": 3
   },
   "file_extension": ".py",
   "mimetype": "text/x-python",
   "name": "python",
   "nbconvert_exporter": "python",
   "pygments_lexer": "ipython3",
   "version": "3.9.7"
  }
 },
 "nbformat": 4,
 "nbformat_minor": 5
}
